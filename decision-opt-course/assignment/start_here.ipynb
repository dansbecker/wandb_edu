{
 "cells": [
  {
   "cell_type": "markdown",
   "metadata": {},
   "source": [
    "# Your Mission\n",
    "\n",
    "Your mission, should you choose to accept it, is to write a python function that will determine when a large manufacturer repairs their machines and when they let them run unrepaired 🙏🏻\n",
    "\n",
    "You will use data from Kaggle's [Classication of Machine Failures](https://www.kaggle.com/competitions/playground-series-s3e17) competition. The original data doesn't include economic information like the cost of repairing a machine. This information is described in this assignment and you will code it in your simulation (the original data was also synthetically generated, so it was generated with a similar process).\n",
    "\n",
    "You will\n",
    "\n",
    "1. Write a function that calculates maintenance and repair costs when you use any supplied decision function for determining when to do machine maintenance\n",
    "2. Create 3 decision functions and compare their costs using the function you just wrote in step 1\n",
    "3. Write and share a Weights & Biases report so your colleagues can see the implications of using your preferred decision function. In your report, describe (in just a few sentences):\n",
    "  - How you might deal with potential covariate shift if training data was collected in winter when air temperatures are lower, so you expect future air temperatures to be warmer\n",
    "  - How you might test your decision function in reality to make sure it works before applying it at scale"
   ]
  },
  {
   "cell_type": "markdown",
   "metadata": {},
   "source": [
    "# Data"
   ]
  },
  {
   "cell_type": "code",
   "execution_count": 31,
   "metadata": {},
   "outputs": [
    {
     "data": {
      "text/html": [
       "<div>\n",
       "<style scoped>\n",
       "    .dataframe tbody tr th:only-of-type {\n",
       "        vertical-align: middle;\n",
       "    }\n",
       "\n",
       "    .dataframe tbody tr th {\n",
       "        vertical-align: top;\n",
       "    }\n",
       "\n",
       "    .dataframe thead th {\n",
       "        text-align: right;\n",
       "    }\n",
       "</style>\n",
       "<table border=\"1\" class=\"dataframe\">\n",
       "  <thead>\n",
       "    <tr style=\"text-align: right;\">\n",
       "      <th></th>\n",
       "      <th>id</th>\n",
       "      <th>Product ID</th>\n",
       "      <th>Type</th>\n",
       "      <th>Air temperature [K]</th>\n",
       "      <th>Process temperature [K]</th>\n",
       "      <th>Rotational speed [rpm]</th>\n",
       "      <th>Torque [Nm]</th>\n",
       "      <th>Tool wear [min]</th>\n",
       "      <th>Machine failure</th>\n",
       "      <th>TWF</th>\n",
       "      <th>HDF</th>\n",
       "      <th>PWF</th>\n",
       "      <th>OSF</th>\n",
       "      <th>RNF</th>\n",
       "    </tr>\n",
       "  </thead>\n",
       "  <tbody>\n",
       "    <tr>\n",
       "      <th>0</th>\n",
       "      <td>0</td>\n",
       "      <td>L50096</td>\n",
       "      <td>L</td>\n",
       "      <td>300.6</td>\n",
       "      <td>309.6</td>\n",
       "      <td>1596</td>\n",
       "      <td>36.1</td>\n",
       "      <td>140</td>\n",
       "      <td>0</td>\n",
       "      <td>0</td>\n",
       "      <td>0</td>\n",
       "      <td>0</td>\n",
       "      <td>0</td>\n",
       "      <td>0</td>\n",
       "    </tr>\n",
       "    <tr>\n",
       "      <th>1</th>\n",
       "      <td>1</td>\n",
       "      <td>M20343</td>\n",
       "      <td>M</td>\n",
       "      <td>302.6</td>\n",
       "      <td>312.1</td>\n",
       "      <td>1759</td>\n",
       "      <td>29.1</td>\n",
       "      <td>200</td>\n",
       "      <td>0</td>\n",
       "      <td>0</td>\n",
       "      <td>0</td>\n",
       "      <td>0</td>\n",
       "      <td>0</td>\n",
       "      <td>0</td>\n",
       "    </tr>\n",
       "    <tr>\n",
       "      <th>2</th>\n",
       "      <td>2</td>\n",
       "      <td>L49454</td>\n",
       "      <td>L</td>\n",
       "      <td>299.3</td>\n",
       "      <td>308.5</td>\n",
       "      <td>1805</td>\n",
       "      <td>26.5</td>\n",
       "      <td>25</td>\n",
       "      <td>0</td>\n",
       "      <td>0</td>\n",
       "      <td>0</td>\n",
       "      <td>0</td>\n",
       "      <td>0</td>\n",
       "      <td>0</td>\n",
       "    </tr>\n",
       "    <tr>\n",
       "      <th>3</th>\n",
       "      <td>3</td>\n",
       "      <td>L53355</td>\n",
       "      <td>L</td>\n",
       "      <td>301.0</td>\n",
       "      <td>310.9</td>\n",
       "      <td>1524</td>\n",
       "      <td>44.3</td>\n",
       "      <td>197</td>\n",
       "      <td>0</td>\n",
       "      <td>0</td>\n",
       "      <td>0</td>\n",
       "      <td>0</td>\n",
       "      <td>0</td>\n",
       "      <td>0</td>\n",
       "    </tr>\n",
       "    <tr>\n",
       "      <th>4</th>\n",
       "      <td>4</td>\n",
       "      <td>M24050</td>\n",
       "      <td>M</td>\n",
       "      <td>298.0</td>\n",
       "      <td>309.0</td>\n",
       "      <td>1641</td>\n",
       "      <td>35.4</td>\n",
       "      <td>34</td>\n",
       "      <td>0</td>\n",
       "      <td>0</td>\n",
       "      <td>0</td>\n",
       "      <td>0</td>\n",
       "      <td>0</td>\n",
       "      <td>0</td>\n",
       "    </tr>\n",
       "  </tbody>\n",
       "</table>\n",
       "</div>"
      ],
      "text/plain": [
       "   id Product ID Type  Air temperature [K]  Process temperature [K]  \\\n",
       "0   0     L50096    L                300.6                    309.6   \n",
       "1   1     M20343    M                302.6                    312.1   \n",
       "2   2     L49454    L                299.3                    308.5   \n",
       "3   3     L53355    L                301.0                    310.9   \n",
       "4   4     M24050    M                298.0                    309.0   \n",
       "\n",
       "   Rotational speed [rpm]  Torque [Nm]  Tool wear [min]  Machine failure  TWF  \\\n",
       "0                    1596         36.1              140                0    0   \n",
       "1                    1759         29.1              200                0    0   \n",
       "2                    1805         26.5               25                0    0   \n",
       "3                    1524         44.3              197                0    0   \n",
       "4                    1641         35.4               34                0    0   \n",
       "\n",
       "   HDF  PWF  OSF  RNF  \n",
       "0    0    0    0    0  \n",
       "1    0    0    0    0  \n",
       "2    0    0    0    0  \n",
       "3    0    0    0    0  \n",
       "4    0    0    0    0  "
      ]
     },
     "execution_count": 31,
     "metadata": {},
     "output_type": "execute_result"
    }
   ],
   "source": [
    "import numpy as np\n",
    "import pandas as pd\n",
    "\n",
    "data = pd.read_csv('data/train.csv')\n",
    "data.head()"
   ]
  },
  {
   "cell_type": "markdown",
   "metadata": {},
   "source": [
    "Note: TWF, HDF, PWF, OSF and RNF are different types of failures (eg tool wear, heat dissipation, power wear, overstrain and random failures respectively). You will decide whether to repair a machine before the failure, and thus before you would know `Machine failure` or any of the failure type information"
   ]
  },
  {
   "cell_type": "code",
   "execution_count": 2,
   "metadata": {},
   "outputs": [],
   "source": [
    "# Add any EDA you want to do here. You do not need to include it in the final report"
   ]
  },
  {
   "cell_type": "markdown",
   "metadata": {},
   "source": [
    "# Modeling\n",
    "\n",
    "You can use this model or change it to another model you like"
   ]
  },
  {
   "cell_type": "code",
   "execution_count": 4,
   "metadata": {},
   "outputs": [
    {
     "data": {
      "text/plain": [
       "Pipeline(steps=[('preprocessor',\n",
       "                 ColumnTransformer(remainder='passthrough',\n",
       "                                   transformers=[('one_hot', OneHotEncoder(),\n",
       "                                                  <sklearn.compose._column_transformer.make_column_selector object at 0x7fd4912c40a0>)])),\n",
       "                ('classifier', GradientBoostingClassifier())])"
      ]
     },
     "execution_count": 4,
     "metadata": {},
     "output_type": "execute_result"
    }
   ],
   "source": [
    "from sklearn.model_selection import train_test_split\n",
    "from sklearn.ensemble import GradientBoostingClassifier\n",
    "from sklearn.pipeline import Pipeline\n",
    "from sklearn.preprocessing import OneHotEncoder\n",
    "from sklearn.compose import ColumnTransformer\n",
    "from sklearn.compose import make_column_selector as selector\n",
    "\n",
    "predictive_features = ['Type', 'Air temperature [K]', 'Process temperature [K]', 'Rotational speed [rpm]', 'Torque [Nm]', 'Tool wear [min]']\n",
    "# We split data between train and test by indexing into data. \n",
    "# This splits by time period if data came in chronological order.\n",
    "# It's also useful to keep this as a DataFrame so your decision function can access features by name\n",
    "train = data[:100_000]\n",
    "test = data[100_000:]\n",
    "\n",
    "preprocessor = ColumnTransformer(\n",
    "    transformers=[(\"one_hot\", OneHotEncoder(), selector(dtype_include=\"object\"))],\n",
    "    remainder=\"passthrough\",  # Leave numerical variables unchanged\n",
    ")\n",
    "modeling_pipeline = Pipeline([(\"preprocessor\", preprocessor), (\"classifier\", GradientBoostingClassifier())])\n",
    "modeling_pipeline.fit(train[predictive_features], train['Machine failure'])"
   ]
  },
  {
   "cell_type": "code",
   "execution_count": 33,
   "metadata": {},
   "outputs": [
    {
     "data": {
      "text/html": [
       "Finishing last run (ID:gwc7qpqp) before initializing another..."
      ],
      "text/plain": [
       "<IPython.core.display.HTML object>"
      ]
     },
     "metadata": {},
     "output_type": "display_data"
    },
    {
     "data": {
      "text/html": [
       "Waiting for W&B process to finish... <strong style=\"color:green\">(success).</strong>"
      ],
      "text/plain": [
       "<IPython.core.display.HTML object>"
      ]
     },
     "metadata": {},
     "output_type": "display_data"
    },
    {
     "data": {
      "application/vnd.jupyter.widget-view+json": {
       "model_id": "cdfd4e2c22424ccba3438a5c43b3543a",
       "version_major": 2,
       "version_minor": 0
      },
      "text/plain": [
       "VBox(children=(Label(value='0.001 MB of 0.001 MB uploaded (0.000 MB deduped)\\r'), FloatProgress(value=1.0, max…"
      ]
     },
     "metadata": {},
     "output_type": "display_data"
    },
    {
     "data": {
      "text/html": [
       "<style>\n",
       "    table.wandb td:nth-child(1) { padding: 0 10px; text-align: left ; width: auto;} td:nth-child(2) {text-align: left ; width: 100%}\n",
       "    .wandb-row { display: flex; flex-direction: row; flex-wrap: wrap; justify-content: flex-start; width: 100% }\n",
       "    .wandb-col { display: flex; flex-direction: column; flex-basis: 100%; flex: 1; padding: 10px; }\n",
       "    </style>\n",
       "<div class=\"wandb-row\"><div class=\"wandb-col\"><h3>Run history:</h3><br/><table class=\"wandb\"><tr><td>accuracy</td><td>▁</td></tr><tr><td>f1</td><td>▁</td></tr><tr><td>precision</td><td>▁</td></tr><tr><td>recall</td><td>▁</td></tr><tr><td>roc_auc</td><td>▁</td></tr></table><br/></div><div class=\"wandb-col\"><h3>Run summary:</h3><br/><table class=\"wandb\"><tr><td>accuracy</td><td>0.98584</td></tr><tr><td>f1</td><td>0.37379</td></tr><tr><td>precision</td><td>0.65812</td></tr><tr><td>recall</td><td>0.26102</td></tr><tr><td>roc_auc</td><td>0.9308</td></tr></table><br/></div></div>"
      ],
      "text/plain": [
       "<IPython.core.display.HTML object>"
      ]
     },
     "metadata": {},
     "output_type": "display_data"
    },
    {
     "data": {
      "text/html": [
       " View run <strong style=\"color:#cdcd00\">fancy-glitter-3</strong> at: <a href='https://wandb.ai/danbecker/Decision%20Optimization%20Assignment/runs/gwc7qpqp' target=\"_blank\">https://wandb.ai/danbecker/Decision%20Optimization%20Assignment/runs/gwc7qpqp</a><br/>Synced 6 W&B file(s), 1 media file(s), 1 artifact file(s) and 0 other file(s)"
      ],
      "text/plain": [
       "<IPython.core.display.HTML object>"
      ]
     },
     "metadata": {},
     "output_type": "display_data"
    },
    {
     "data": {
      "text/html": [
       "Find logs at: <code>./wandb/run-20230731_154031-gwc7qpqp/logs</code>"
      ],
      "text/plain": [
       "<IPython.core.display.HTML object>"
      ]
     },
     "metadata": {},
     "output_type": "display_data"
    },
    {
     "data": {
      "text/html": [
       "Successfully finished last run (ID:gwc7qpqp). Initializing new run:<br/>"
      ],
      "text/plain": [
       "<IPython.core.display.HTML object>"
      ]
     },
     "metadata": {},
     "output_type": "display_data"
    },
    {
     "data": {
      "application/vnd.jupyter.widget-view+json": {
       "model_id": "6ca9ac95e9ee4cb89bed3c46042e2ed8",
       "version_major": 2,
       "version_minor": 0
      },
      "text/plain": [
       "VBox(children=(Label(value='Waiting for wandb.init()...\\r'), FloatProgress(value=0.016731309033336098, max=1.0…"
      ]
     },
     "metadata": {},
     "output_type": "display_data"
    },
    {
     "data": {
      "text/html": [
       "Tracking run with wandb version 0.15.7"
      ],
      "text/plain": [
       "<IPython.core.display.HTML object>"
      ]
     },
     "metadata": {},
     "output_type": "display_data"
    },
    {
     "data": {
      "text/html": [
       "Run data is saved locally in <code>/Users/dan/Desktop/decision_opt_course/assignment/wandb/run-20230731_154216-5yx1p0lk</code>"
      ],
      "text/plain": [
       "<IPython.core.display.HTML object>"
      ]
     },
     "metadata": {},
     "output_type": "display_data"
    },
    {
     "data": {
      "text/html": [
       "Syncing run <strong><a href='https://wandb.ai/danbecker/Decision%20Optimization%20Assignment/runs/5yx1p0lk' target=\"_blank\">rural-forest-4</a></strong> to <a href='https://wandb.ai/danbecker/Decision%20Optimization%20Assignment' target=\"_blank\">Weights & Biases</a> (<a href='https://wandb.me/run' target=\"_blank\">docs</a>)<br/>"
      ],
      "text/plain": [
       "<IPython.core.display.HTML object>"
      ]
     },
     "metadata": {},
     "output_type": "display_data"
    },
    {
     "data": {
      "text/html": [
       " View project at <a href='https://wandb.ai/danbecker/Decision%20Optimization%20Assignment' target=\"_blank\">https://wandb.ai/danbecker/Decision%20Optimization%20Assignment</a>"
      ],
      "text/plain": [
       "<IPython.core.display.HTML object>"
      ]
     },
     "metadata": {},
     "output_type": "display_data"
    },
    {
     "data": {
      "text/html": [
       " View run at <a href='https://wandb.ai/danbecker/Decision%20Optimization%20Assignment/runs/5yx1p0lk' target=\"_blank\">https://wandb.ai/danbecker/Decision%20Optimization%20Assignment/runs/5yx1p0lk</a>"
      ],
      "text/plain": [
       "<IPython.core.display.HTML object>"
      ]
     },
     "metadata": {},
     "output_type": "display_data"
    },
    {
     "name": "stderr",
     "output_type": "stream",
     "text": [
      "\u001b[34m\u001b[1mwandb\u001b[0m: Visualizing heatmap.\n",
      "/Users/dan/opt/anaconda3/lib/python3.9/site-packages/sklearn/utils/deprecation.py:87: FutureWarning: Function plot_roc_curve is deprecated; Function :func:`plot_roc_curve` is deprecated in 1.0 and will be removed in 1.2. Use one of the class methods: :meth:`sklearn.metric.RocCurveDisplay.from_predictions` or :meth:`sklearn.metric.RocCurveDisplay.from_estimator`.\n",
      "  warnings.warn(msg, category=FutureWarning)\n"
     ]
    },
    {
     "data": {
      "text/html": [
       "Waiting for W&B process to finish... <strong style=\"color:green\">(success).</strong>"
      ],
      "text/plain": [
       "<IPython.core.display.HTML object>"
      ]
     },
     "metadata": {},
     "output_type": "display_data"
    },
    {
     "data": {
      "application/vnd.jupyter.widget-view+json": {
       "model_id": "71d78c73f1ad4291831ddb8b31966495",
       "version_major": 2,
       "version_minor": 0
      },
      "text/plain": [
       "VBox(children=(Label(value='0.025 MB of 0.025 MB uploaded (0.000 MB deduped)\\r'), FloatProgress(value=0.995937…"
      ]
     },
     "metadata": {},
     "output_type": "display_data"
    },
    {
     "data": {
      "text/html": [
       "<style>\n",
       "    table.wandb td:nth-child(1) { padding: 0 10px; text-align: left ; width: auto;} td:nth-child(2) {text-align: left ; width: 100%}\n",
       "    .wandb-row { display: flex; flex-direction: row; flex-wrap: wrap; justify-content: flex-start; width: 100% }\n",
       "    .wandb-col { display: flex; flex-direction: column; flex-basis: 100%; flex: 1; padding: 10px; }\n",
       "    </style>\n",
       "<div class=\"wandb-row\"><div class=\"wandb-col\"><h3>Run history:</h3><br/><table class=\"wandb\"><tr><td>accuracy</td><td>▁</td></tr><tr><td>f1</td><td>▁</td></tr><tr><td>precision</td><td>▁</td></tr><tr><td>recall</td><td>▁</td></tr><tr><td>roc_auc</td><td>▁</td></tr></table><br/></div><div class=\"wandb-col\"><h3>Run summary:</h3><br/><table class=\"wandb\"><tr><td>accuracy</td><td>0.98584</td></tr><tr><td>f1</td><td>0.37379</td></tr><tr><td>precision</td><td>0.65812</td></tr><tr><td>recall</td><td>0.26102</td></tr><tr><td>roc_auc</td><td>0.9308</td></tr></table><br/></div></div>"
      ],
      "text/plain": [
       "<IPython.core.display.HTML object>"
      ]
     },
     "metadata": {},
     "output_type": "display_data"
    },
    {
     "data": {
      "text/html": [
       " View run <strong style=\"color:#cdcd00\">rural-forest-4</strong> at: <a href='https://wandb.ai/danbecker/Decision%20Optimization%20Assignment/runs/5yx1p0lk' target=\"_blank\">https://wandb.ai/danbecker/Decision%20Optimization%20Assignment/runs/5yx1p0lk</a><br/>Synced 6 W&B file(s), 2 media file(s), 1 artifact file(s) and 0 other file(s)"
      ],
      "text/plain": [
       "<IPython.core.display.HTML object>"
      ]
     },
     "metadata": {},
     "output_type": "display_data"
    },
    {
     "data": {
      "text/html": [
       "Find logs at: <code>./wandb/run-20230731_154216-5yx1p0lk/logs</code>"
      ],
      "text/plain": [
       "<IPython.core.display.HTML object>"
      ]
     },
     "metadata": {},
     "output_type": "display_data"
    },
    {
     "data": {
      "image/png": "[encoded data removed]",
      "text/plain": [
       "<Figure size 640x480 with 1 Axes>"
      ]
     },
     "metadata": {},
     "output_type": "display_data"
    }
   ],
   "source": [
    "import wandb\n",
    "from sklearn.metrics import confusion_matrix, accuracy_score, precision_score, recall_score, f1_score, roc_auc_score, plot_roc_curve\n",
    "\n",
    "project_name = 'Decision Optimization Assignment'\n",
    "# start a new run\n",
    "run = wandb.init(project=project_name)\n",
    "\n",
    "# predict labels for test set\n",
    "test_predictions = modeling_pipeline.predict(test[predictive_features])\n",
    "test_probabilities = modeling_pipeline.predict_proba(test[predictive_features])[:, 1]\n",
    "\n",
    "# calculate metrics\n",
    "conf_mat = confusion_matrix(test['Machine failure'], test_predictions)\n",
    "accuracy = accuracy_score(test['Machine failure'], test_predictions)\n",
    "precision = precision_score(test['Machine failure'], test_predictions)\n",
    "recall = recall_score(test['Machine failure'], test_predictions)\n",
    "f1 = f1_score(test['Machine failure'], test_predictions)\n",
    "roc_auc = roc_auc_score(test['Machine failure'], test_probabilities)\n",
    "\n",
    "# calculate feature importance for tree-based model\n",
    "feature_importance = modeling_pipeline.named_steps['classifier'].feature_importances_\n",
    "\n",
    "# log metrics to wandb\n",
    "wandb.log({\"confusion_matrix\": wandb.plots.HeatMap(\n",
    "    np.unique(test['Machine failure']), \n",
    "    np.unique(test['Machine failure']), \n",
    "    conf_mat, \n",
    "    show_text=True\n",
    ")})\n",
    "wandb.log({\"accuracy\": accuracy})\n",
    "wandb.log({\"precision\": precision})\n",
    "wandb.log({\"recall\": recall})\n",
    "wandb.log({\"f1\": f1})\n",
    "wandb.log({\"roc_auc\": roc_auc})\n",
    "wandb.log({\"feature_importance\": wandb.Histogram(feature_importance)})\n",
    "\n",
    "# plot roc curve\n",
    "ax = plot_roc_curve(modeling_pipeline, test[predictive_features], test['Machine failure'])\n",
    "ax.figure_.savefig(\"roc_curve.png\")\n",
    "wandb.log({\"roc_curve\": wandb.Image(\"roc_curve.png\")})\n",
    "\n",
    "# end run\n",
    "run.finish()\n"
   ]
  },
  {
   "cell_type": "markdown",
   "metadata": {},
   "source": [
    "# Simulation\n",
    "\n",
    "Your model will predict the likelihood of failure for each row in the data. You will then apply a decision function that considers `Machine Type`` and the probability of failure to decide whether to do preventive maintenance for that machine at that time.\n",
    "\n",
    "If choose to do preventive maintenance, you pay the cost shown below for `Cost of preventive maintenance` for that machine type. If you don't do maintenance and the observed data in validation is that it failed, then you pay `Cost of failure` for that machine type.\n",
    "\n",
    "| Machine Type | Cost of preventive maintenance | Cost of failure if you don't do preventive maintenance |\n",
    "|--------------|--------------------------------|--------------------------------------------------------|\n",
    "| L            | 1000                           | 30000                                                  |\n",
    "| M            | 5000                           | 250000                                                 |\n",
    "| H            | 10000                          | 800000                                                 |\n",
    "\n",
    "First, write a function that determines the costs given some data, a machine learning model to predict failure rates, and a decision function:"
   ]
  },
  {
   "cell_type": "code",
   "execution_count": 26,
   "metadata": {},
   "outputs": [],
   "source": [
    "def cost_calculator(data, model, decision_function):\n",
    "    \"\"\"\n",
    "    Args:\n",
    "        data (pandas.DataFrame): The dataset on which the cost is calculated.\n",
    "        model (sklearn-compatible model. Compatible with type sklearn.base.BaseEstimator): The predictive model.\n",
    "        decision_function (function): The decision function of the model.\n",
    "    \n",
    "    Returns:\n",
    "        int: The cost of using this decision function with the predictive model on this dataset.\n",
    "    \"\"\"\n",
    "    # YOUR CODE HERE"
   ]
  },
  {
   "cell_type": "markdown",
   "metadata": {},
   "source": [
    "Here is an example decision function."
   ]
  },
  {
   "cell_type": "code",
   "execution_count": 24,
   "metadata": {},
   "outputs": [],
   "source": [
    "def first_decision_function(data, model):\n",
    "    \"\"\"\n",
    "    Args:\n",
    "        data (pandas.DataFrame): Data to make a decision on\n",
    "        model (sklearn model): A trained sklearn classifier\n",
    "    \n",
    "    Returns:\n",
    "        repair_decision (bool): A decision to repair or not to repair\n",
    "    \"\"\"\n",
    "    fixed_decision_threshold = 0.01\n",
    "    probability_of_failure = model.predict_proba(data[predictive_features])[:, 1]\n",
    "    repair_decision = probability_of_failure > fixed_decision_threshold\n",
    "    return repair_decision\n",
    "\n",
    "first_costs = cost_calculator(test, modeling_pipeline, first_decision_function)\n",
    "\n",
    "# Log this with wandb. Then add and test two more decision functions.\n",
    "# You should be able to find a better decision function than the first one.\n",
    "# Do you see how to do better than just changing `fixed_decision_threshold` to a different number?"
   ]
  },
  {
   "cell_type": "markdown",
   "metadata": {},
   "source": [
    "Once you have created and compared at least three decision functions, you can create and submit your report comparing them. Remember to describe (in a sentence or two) your plan for dealing with the covariate shift and testing issues described at the top of this assignment.\n",
    "\n",
    "Good Luck!"
   ]
  },
  {
   "cell_type": "markdown",
   "metadata": {},
   "source": []
  }
 ],
 "metadata": {
  "kernelspec": {
   "display_name": "base",
   "language": "python",
   "name": "python3"
  },
  "language_info": {
   "codemirror_mode": {
    "name": "ipython",
    "version": 3
   },
   "file_extension": ".py",
   "mimetype": "text/x-python",
   "name": "python",
   "nbconvert_exporter": "python",
   "pygments_lexer": "ipython3",
   "version": "3.9.13"
  },
  "orig_nbformat": 4
 },
 "nbformat": 4,
 "nbformat_minor": 2
}
