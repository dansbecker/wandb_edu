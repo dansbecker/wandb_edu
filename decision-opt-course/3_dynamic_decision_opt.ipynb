{
 "cells": [
  {
   "cell_type": "code",
   "execution_count": 1,
   "metadata": {},
   "outputs": [
    {
     "data": {
      "text/html": [
       "<div>\n",
       "<style scoped>\n",
       "    .dataframe tbody tr th:only-of-type {\n",
       "        vertical-align: middle;\n",
       "    }\n",
       "\n",
       "    .dataframe tbody tr th {\n",
       "        vertical-align: top;\n",
       "    }\n",
       "\n",
       "    .dataframe thead th {\n",
       "        text-align: right;\n",
       "    }\n",
       "</style>\n",
       "<table border=\"1\" class=\"dataframe\">\n",
       "  <thead>\n",
       "    <tr style=\"text-align: right;\">\n",
       "      <th></th>\n",
       "      <th>Agencia_ID</th>\n",
       "      <th>Canal_ID</th>\n",
       "      <th>Ruta_SAK</th>\n",
       "      <th>Cliente_ID</th>\n",
       "      <th>Producto_ID</th>\n",
       "      <th>Semana</th>\n",
       "      <th>Venta_uni_hoy</th>\n",
       "      <th>Venta_hoy</th>\n",
       "      <th>Dev_uni_proxima</th>\n",
       "      <th>Dev_proxima</th>\n",
       "      <th>Demanda_uni_equil</th>\n",
       "    </tr>\n",
       "  </thead>\n",
       "  <tbody>\n",
       "    <tr>\n",
       "      <th>5030470</th>\n",
       "      <td>1110</td>\n",
       "      <td>7</td>\n",
       "      <td>3301</td>\n",
       "      <td>15766</td>\n",
       "      <td>1238</td>\n",
       "      <td>5</td>\n",
       "      <td>1</td>\n",
       "      <td>9.83</td>\n",
       "      <td>0</td>\n",
       "      <td>0.0</td>\n",
       "      <td>1</td>\n",
       "    </tr>\n",
       "    <tr>\n",
       "      <th>5030471</th>\n",
       "      <td>1110</td>\n",
       "      <td>7</td>\n",
       "      <td>3301</td>\n",
       "      <td>15766</td>\n",
       "      <td>1242</td>\n",
       "      <td>5</td>\n",
       "      <td>2</td>\n",
       "      <td>15.28</td>\n",
       "      <td>0</td>\n",
       "      <td>0.0</td>\n",
       "      <td>2</td>\n",
       "    </tr>\n",
       "    <tr>\n",
       "      <th>5030472</th>\n",
       "      <td>1110</td>\n",
       "      <td>7</td>\n",
       "      <td>3301</td>\n",
       "      <td>15766</td>\n",
       "      <td>1250</td>\n",
       "      <td>5</td>\n",
       "      <td>8</td>\n",
       "      <td>61.12</td>\n",
       "      <td>0</td>\n",
       "      <td>0.0</td>\n",
       "      <td>8</td>\n",
       "    </tr>\n",
       "    <tr>\n",
       "      <th>5030473</th>\n",
       "      <td>1110</td>\n",
       "      <td>7</td>\n",
       "      <td>3301</td>\n",
       "      <td>15766</td>\n",
       "      <td>1309</td>\n",
       "      <td>5</td>\n",
       "      <td>6</td>\n",
       "      <td>40.56</td>\n",
       "      <td>0</td>\n",
       "      <td>0.0</td>\n",
       "      <td>6</td>\n",
       "    </tr>\n",
       "    <tr>\n",
       "      <th>5030474</th>\n",
       "      <td>1110</td>\n",
       "      <td>7</td>\n",
       "      <td>3301</td>\n",
       "      <td>15766</td>\n",
       "      <td>3894</td>\n",
       "      <td>5</td>\n",
       "      <td>8</td>\n",
       "      <td>74.80</td>\n",
       "      <td>0</td>\n",
       "      <td>0.0</td>\n",
       "      <td>8</td>\n",
       "    </tr>\n",
       "  </tbody>\n",
       "</table>\n",
       "</div>"
      ],
      "text/plain": [
       "         Agencia_ID  Canal_ID  Ruta_SAK  Cliente_ID  Producto_ID  Semana  \\\n",
       "5030470        1110         7      3301       15766         1238       5   \n",
       "5030471        1110         7      3301       15766         1242       5   \n",
       "5030472        1110         7      3301       15766         1250       5   \n",
       "5030473        1110         7      3301       15766         1309       5   \n",
       "5030474        1110         7      3301       15766         3894       5   \n",
       "\n",
       "         Venta_uni_hoy  Venta_hoy  Dev_uni_proxima  Dev_proxima  \\\n",
       "5030470              1       9.83                0          0.0   \n",
       "5030471              2      15.28                0          0.0   \n",
       "5030472              8      61.12                0          0.0   \n",
       "5030473              6      40.56                0          0.0   \n",
       "5030474              8      74.80                0          0.0   \n",
       "\n",
       "         Demanda_uni_equil  \n",
       "5030470                  1  \n",
       "5030471                  2  \n",
       "5030472                  8  \n",
       "5030473                  6  \n",
       "5030474                  8  "
      ]
     },
     "execution_count": 1,
     "metadata": {},
     "output_type": "execute_result"
    }
   ],
   "source": [
    "import os \n",
    "import pandas as pd\n",
    "import pickle\n",
    "import torch\n",
    "import wandb\n",
    "\n",
    "os.environ[\"WANDB_QUIET\"] = \"true\"\n",
    "os.environ[\"WANDB_NOTEBOOK_NAME\"] = \"dynamic_decision_opt.ipynb\"\n",
    "project_name = \"Dynamic Inventory Management for Bimbo\"\n",
    "decision_data = pd.read_parquet('./data/bimbo/decision_data.parquet')\n",
    "decision_data.head()"
   ]
  },
  {
   "cell_type": "code",
   "execution_count": 2,
   "metadata": {},
   "outputs": [],
   "source": [
    "sample_store_and_product = decision_data.query(\n",
    "\"Agencia_ID == 1110 & Canal_ID == 7 & Ruta_SAK == 3301 & Cliente_ID == 15766 & Producto_ID == 1238\"\n",
    ")"
   ]
  },
  {
   "cell_type": "code",
   "execution_count": 3,
   "metadata": {},
   "outputs": [
    {
     "data": {
      "text/plain": [
       "tensor([1.0019, 1.8646, 1.8646, 2.5598, 1.8646])"
      ]
     },
     "execution_count": 3,
     "metadata": {},
     "output_type": "execute_result"
    }
   ],
   "source": [
    "store_product_ids = [\n",
    "    \"Agencia_ID\",\n",
    "    \"Canal_ID\",\n",
    "    \"Ruta_SAK\",\n",
    "    \"Cliente_ID\",\n",
    "    \"Producto_ID\",\n",
    "]\n",
    "\n",
    "numerical_cols = [\n",
    "    \"Venta_uni_hoy\",\n",
    "    \"Venta_hoy\",\n",
    "]\n",
    "\n",
    "model = torch.load(\"predictive_model.pt\")\n",
    "with open('catgeorical_encoder.pkl', 'rb') as f:\n",
    "    encoder = pickle.load(f)\n",
    "\n",
    "categorical_for_prediction = sample_store_and_product[store_product_ids].values\n",
    "categorical_encoded = encoder.transform(categorical_for_prediction)\n",
    "categorical_tensor = torch.from_numpy(categorical_encoded).long()\n",
    "categorical_tensor = [categorical_tensor[:, i] for i in range(categorical_tensor.shape[1])]\n",
    "\n",
    "numerical_tensor = torch.from_numpy(sample_store_and_product[numerical_cols].values).float()\n",
    "model.eval()\n",
    "with torch.no_grad():\n",
    "    prediction = model(categorical_tensor, numerical_tensor)\n",
    "prediction"
   ]
  },
  {
   "cell_type": "code",
   "execution_count": 4,
   "metadata": {},
   "outputs": [
    {
     "data": {
      "text/html": [
       "<div>\n",
       "<style scoped>\n",
       "    .dataframe tbody tr th:only-of-type {\n",
       "        vertical-align: middle;\n",
       "    }\n",
       "\n",
       "    .dataframe tbody tr th {\n",
       "        vertical-align: top;\n",
       "    }\n",
       "\n",
       "    .dataframe thead th {\n",
       "        text-align: right;\n",
       "    }\n",
       "</style>\n",
       "<table border=\"1\" class=\"dataframe\">\n",
       "  <thead>\n",
       "    <tr style=\"text-align: right;\">\n",
       "      <th></th>\n",
       "      <th>Agencia_ID</th>\n",
       "      <th>Canal_ID</th>\n",
       "      <th>Ruta_SAK</th>\n",
       "      <th>Cliente_ID</th>\n",
       "      <th>Producto_ID</th>\n",
       "      <th>Semana</th>\n",
       "      <th>Venta_uni_hoy</th>\n",
       "      <th>Venta_hoy</th>\n",
       "      <th>Dev_uni_proxima</th>\n",
       "      <th>Dev_proxima</th>\n",
       "      <th>Demanda_uni_equil</th>\n",
       "      <th>predicted_demand</th>\n",
       "    </tr>\n",
       "  </thead>\n",
       "  <tbody>\n",
       "    <tr>\n",
       "      <th>5030470</th>\n",
       "      <td>1110</td>\n",
       "      <td>7</td>\n",
       "      <td>3301</td>\n",
       "      <td>15766</td>\n",
       "      <td>1238</td>\n",
       "      <td>5</td>\n",
       "      <td>1</td>\n",
       "      <td>9.83</td>\n",
       "      <td>0</td>\n",
       "      <td>0.0</td>\n",
       "      <td>1</td>\n",
       "      <td>1.001867</td>\n",
       "    </tr>\n",
       "    <tr>\n",
       "      <th>7545705</th>\n",
       "      <td>1110</td>\n",
       "      <td>7</td>\n",
       "      <td>3301</td>\n",
       "      <td>15766</td>\n",
       "      <td>1238</td>\n",
       "      <td>6</td>\n",
       "      <td>2</td>\n",
       "      <td>19.66</td>\n",
       "      <td>0</td>\n",
       "      <td>0.0</td>\n",
       "      <td>2</td>\n",
       "      <td>1.864592</td>\n",
       "    </tr>\n",
       "    <tr>\n",
       "      <th>10060940</th>\n",
       "      <td>1110</td>\n",
       "      <td>7</td>\n",
       "      <td>3301</td>\n",
       "      <td>15766</td>\n",
       "      <td>1238</td>\n",
       "      <td>7</td>\n",
       "      <td>2</td>\n",
       "      <td>19.66</td>\n",
       "      <td>0</td>\n",
       "      <td>0.0</td>\n",
       "      <td>2</td>\n",
       "      <td>1.864592</td>\n",
       "    </tr>\n",
       "    <tr>\n",
       "      <th>12576175</th>\n",
       "      <td>1110</td>\n",
       "      <td>7</td>\n",
       "      <td>3301</td>\n",
       "      <td>15766</td>\n",
       "      <td>1238</td>\n",
       "      <td>8</td>\n",
       "      <td>3</td>\n",
       "      <td>29.49</td>\n",
       "      <td>0</td>\n",
       "      <td>0.0</td>\n",
       "      <td>3</td>\n",
       "      <td>2.559850</td>\n",
       "    </tr>\n",
       "    <tr>\n",
       "      <th>15091410</th>\n",
       "      <td>1110</td>\n",
       "      <td>7</td>\n",
       "      <td>3301</td>\n",
       "      <td>15766</td>\n",
       "      <td>1238</td>\n",
       "      <td>9</td>\n",
       "      <td>2</td>\n",
       "      <td>19.66</td>\n",
       "      <td>0</td>\n",
       "      <td>0.0</td>\n",
       "      <td>2</td>\n",
       "      <td>1.864592</td>\n",
       "    </tr>\n",
       "  </tbody>\n",
       "</table>\n",
       "</div>"
      ],
      "text/plain": [
       "          Agencia_ID  Canal_ID  Ruta_SAK  Cliente_ID  Producto_ID  Semana  \\\n",
       "5030470         1110         7      3301       15766         1238       5   \n",
       "7545705         1110         7      3301       15766         1238       6   \n",
       "10060940        1110         7      3301       15766         1238       7   \n",
       "12576175        1110         7      3301       15766         1238       8   \n",
       "15091410        1110         7      3301       15766         1238       9   \n",
       "\n",
       "          Venta_uni_hoy  Venta_hoy  Dev_uni_proxima  Dev_proxima  \\\n",
       "5030470               1       9.83                0          0.0   \n",
       "7545705               2      19.66                0          0.0   \n",
       "10060940              2      19.66                0          0.0   \n",
       "12576175              3      29.49                0          0.0   \n",
       "15091410              2      19.66                0          0.0   \n",
       "\n",
       "          Demanda_uni_equil  predicted_demand  \n",
       "5030470                   1          1.001867  \n",
       "7545705                   2          1.864592  \n",
       "10060940                  2          1.864592  \n",
       "12576175                  3          2.559850  \n",
       "15091410                  2          1.864592  "
      ]
     },
     "execution_count": 4,
     "metadata": {},
     "output_type": "execute_result"
    }
   ],
   "source": [
    "sample_store_and_product = sample_store_and_product.assign(predicted_demand = prediction.numpy())\n",
    "sample_store_and_product"
   ]
  },
  {
   "cell_type": "code",
   "execution_count": 5,
   "metadata": {},
   "outputs": [
    {
     "data": {
      "text/html": [
       "<div>\n",
       "<style scoped>\n",
       "    .dataframe tbody tr th:only-of-type {\n",
       "        vertical-align: middle;\n",
       "    }\n",
       "\n",
       "    .dataframe tbody tr th {\n",
       "        vertical-align: top;\n",
       "    }\n",
       "\n",
       "    .dataframe thead th {\n",
       "        text-align: right;\n",
       "    }\n",
       "</style>\n",
       "<table border=\"1\" class=\"dataframe\">\n",
       "  <thead>\n",
       "    <tr style=\"text-align: right;\">\n",
       "      <th></th>\n",
       "      <th>Agencia_ID</th>\n",
       "      <th>Canal_ID</th>\n",
       "      <th>Ruta_SAK</th>\n",
       "      <th>Cliente_ID</th>\n",
       "      <th>Producto_ID</th>\n",
       "      <th>Semana</th>\n",
       "      <th>Venta_uni_hoy</th>\n",
       "      <th>Venta_hoy</th>\n",
       "      <th>Dev_uni_proxima</th>\n",
       "      <th>Dev_proxima</th>\n",
       "      <th>Demanda_uni_equil</th>\n",
       "      <th>predicted_demand</th>\n",
       "    </tr>\n",
       "  </thead>\n",
       "  <tbody>\n",
       "    <tr>\n",
       "      <th>5030470</th>\n",
       "      <td>1110</td>\n",
       "      <td>7</td>\n",
       "      <td>3301</td>\n",
       "      <td>15766</td>\n",
       "      <td>1238</td>\n",
       "      <td>5</td>\n",
       "      <td>1</td>\n",
       "      <td>9.83</td>\n",
       "      <td>0</td>\n",
       "      <td>0.0</td>\n",
       "      <td>1</td>\n",
       "      <td>1.001867</td>\n",
       "    </tr>\n",
       "    <tr>\n",
       "      <th>7545705</th>\n",
       "      <td>1110</td>\n",
       "      <td>7</td>\n",
       "      <td>3301</td>\n",
       "      <td>15766</td>\n",
       "      <td>1238</td>\n",
       "      <td>6</td>\n",
       "      <td>2</td>\n",
       "      <td>19.66</td>\n",
       "      <td>0</td>\n",
       "      <td>0.0</td>\n",
       "      <td>2</td>\n",
       "      <td>1.864592</td>\n",
       "    </tr>\n",
       "    <tr>\n",
       "      <th>10060940</th>\n",
       "      <td>1110</td>\n",
       "      <td>7</td>\n",
       "      <td>3301</td>\n",
       "      <td>15766</td>\n",
       "      <td>1238</td>\n",
       "      <td>7</td>\n",
       "      <td>2</td>\n",
       "      <td>19.66</td>\n",
       "      <td>0</td>\n",
       "      <td>0.0</td>\n",
       "      <td>2</td>\n",
       "      <td>1.864592</td>\n",
       "    </tr>\n",
       "    <tr>\n",
       "      <th>12576175</th>\n",
       "      <td>1110</td>\n",
       "      <td>7</td>\n",
       "      <td>3301</td>\n",
       "      <td>15766</td>\n",
       "      <td>1238</td>\n",
       "      <td>8</td>\n",
       "      <td>3</td>\n",
       "      <td>29.49</td>\n",
       "      <td>0</td>\n",
       "      <td>0.0</td>\n",
       "      <td>3</td>\n",
       "      <td>2.559850</td>\n",
       "    </tr>\n",
       "    <tr>\n",
       "      <th>15091410</th>\n",
       "      <td>1110</td>\n",
       "      <td>7</td>\n",
       "      <td>3301</td>\n",
       "      <td>15766</td>\n",
       "      <td>1238</td>\n",
       "      <td>9</td>\n",
       "      <td>2</td>\n",
       "      <td>19.66</td>\n",
       "      <td>0</td>\n",
       "      <td>0.0</td>\n",
       "      <td>2</td>\n",
       "      <td>1.864592</td>\n",
       "    </tr>\n",
       "  </tbody>\n",
       "</table>\n",
       "</div>"
      ],
      "text/plain": [
       "          Agencia_ID  Canal_ID  Ruta_SAK  Cliente_ID  Producto_ID  Semana  \\\n",
       "5030470         1110         7      3301       15766         1238       5   \n",
       "7545705         1110         7      3301       15766         1238       6   \n",
       "10060940        1110         7      3301       15766         1238       7   \n",
       "12576175        1110         7      3301       15766         1238       8   \n",
       "15091410        1110         7      3301       15766         1238       9   \n",
       "\n",
       "          Venta_uni_hoy  Venta_hoy  Dev_uni_proxima  Dev_proxima  \\\n",
       "5030470               1       9.83                0          0.0   \n",
       "7545705               2      19.66                0          0.0   \n",
       "10060940              2      19.66                0          0.0   \n",
       "12576175              3      29.49                0          0.0   \n",
       "15091410              2      19.66                0          0.0   \n",
       "\n",
       "          Demanda_uni_equil  predicted_demand  \n",
       "5030470                   1          1.001867  \n",
       "7545705                   2          1.864592  \n",
       "10060940                  2          1.864592  \n",
       "12576175                  3          2.559850  \n",
       "15091410                  2          1.864592  "
      ]
     },
     "execution_count": 5,
     "metadata": {},
     "output_type": "execute_result"
    }
   ],
   "source": [
    "def add_preds_to_df(df):\n",
    "    categorical_for_prediction = df[store_product_ids].values\n",
    "    categorical_encoded = encoder.transform(categorical_for_prediction)\n",
    "    categorical_tensor = torch.from_numpy(categorical_encoded).long()\n",
    "    categorical_tensor = [categorical_tensor[:, i] for i in range(categorical_tensor.shape[1])]\n",
    "    numerical_tensor = torch.from_numpy(df[numerical_cols].values).float()\n",
    "    model.eval()\n",
    "    with torch.no_grad():\n",
    "        prediction = model(categorical_tensor, numerical_tensor)\n",
    "    return df.assign(predicted_demand = prediction.numpy())\n",
    "\n",
    "sample_store_and_product = decision_data.query(\n",
    "\"Agencia_ID == 1110 & Canal_ID == 7 & Ruta_SAK == 3301 & Cliente_ID == 15766 & Producto_ID == 1238\"\n",
    ")\n",
    "add_preds_to_df(sample_store_and_product)"
   ]
  },
  {
   "cell_type": "code",
   "execution_count": 6,
   "metadata": {},
   "outputs": [
    {
     "data": {
      "text/html": [
       "<div>\n",
       "<style scoped>\n",
       "    .dataframe tbody tr th:only-of-type {\n",
       "        vertical-align: middle;\n",
       "    }\n",
       "\n",
       "    .dataframe tbody tr th {\n",
       "        vertical-align: top;\n",
       "    }\n",
       "\n",
       "    .dataframe thead th {\n",
       "        text-align: right;\n",
       "    }\n",
       "</style>\n",
       "<table border=\"1\" class=\"dataframe\">\n",
       "  <thead>\n",
       "    <tr style=\"text-align: right;\">\n",
       "      <th></th>\n",
       "      <th>Agencia_ID</th>\n",
       "      <th>Canal_ID</th>\n",
       "      <th>Ruta_SAK</th>\n",
       "      <th>Cliente_ID</th>\n",
       "      <th>Producto_ID</th>\n",
       "      <th>Semana</th>\n",
       "      <th>Venta_uni_hoy</th>\n",
       "      <th>Venta_hoy</th>\n",
       "      <th>Dev_uni_proxima</th>\n",
       "      <th>Dev_proxima</th>\n",
       "      <th>Demanda_uni_equil</th>\n",
       "      <th>predicted_demand</th>\n",
       "      <th>old_stock</th>\n",
       "      <th>new_stock</th>\n",
       "      <th>shortage</th>\n",
       "      <th>total_sold</th>\n",
       "      <th>spoilage</th>\n",
       "    </tr>\n",
       "  </thead>\n",
       "  <tbody>\n",
       "    <tr>\n",
       "      <th>5030470</th>\n",
       "      <td>1110</td>\n",
       "      <td>7</td>\n",
       "      <td>3301</td>\n",
       "      <td>15766</td>\n",
       "      <td>1238</td>\n",
       "      <td>5</td>\n",
       "      <td>1</td>\n",
       "      <td>9.83</td>\n",
       "      <td>0</td>\n",
       "      <td>0.0</td>\n",
       "      <td>1</td>\n",
       "      <td>1.001867</td>\n",
       "      <td>0.0</td>\n",
       "      <td>1.0</td>\n",
       "      <td>0.001867</td>\n",
       "      <td>1.0</td>\n",
       "      <td>NaN</td>\n",
       "    </tr>\n",
       "    <tr>\n",
       "      <th>7545705</th>\n",
       "      <td>1110</td>\n",
       "      <td>7</td>\n",
       "      <td>3301</td>\n",
       "      <td>15766</td>\n",
       "      <td>1238</td>\n",
       "      <td>6</td>\n",
       "      <td>2</td>\n",
       "      <td>19.66</td>\n",
       "      <td>0</td>\n",
       "      <td>0.0</td>\n",
       "      <td>2</td>\n",
       "      <td>1.864592</td>\n",
       "      <td>0.0</td>\n",
       "      <td>1.0</td>\n",
       "      <td>1.000000</td>\n",
       "      <td>1.0</td>\n",
       "      <td>0.0</td>\n",
       "    </tr>\n",
       "    <tr>\n",
       "      <th>10060940</th>\n",
       "      <td>1110</td>\n",
       "      <td>7</td>\n",
       "      <td>3301</td>\n",
       "      <td>15766</td>\n",
       "      <td>1238</td>\n",
       "      <td>7</td>\n",
       "      <td>2</td>\n",
       "      <td>19.66</td>\n",
       "      <td>0</td>\n",
       "      <td>0.0</td>\n",
       "      <td>2</td>\n",
       "      <td>1.864592</td>\n",
       "      <td>0.0</td>\n",
       "      <td>1.0</td>\n",
       "      <td>1.000000</td>\n",
       "      <td>1.0</td>\n",
       "      <td>0.0</td>\n",
       "    </tr>\n",
       "    <tr>\n",
       "      <th>12576175</th>\n",
       "      <td>1110</td>\n",
       "      <td>7</td>\n",
       "      <td>3301</td>\n",
       "      <td>15766</td>\n",
       "      <td>1238</td>\n",
       "      <td>8</td>\n",
       "      <td>3</td>\n",
       "      <td>29.49</td>\n",
       "      <td>0</td>\n",
       "      <td>0.0</td>\n",
       "      <td>3</td>\n",
       "      <td>2.559850</td>\n",
       "      <td>0.0</td>\n",
       "      <td>1.0</td>\n",
       "      <td>2.000000</td>\n",
       "      <td>1.0</td>\n",
       "      <td>0.0</td>\n",
       "    </tr>\n",
       "    <tr>\n",
       "      <th>15091410</th>\n",
       "      <td>1110</td>\n",
       "      <td>7</td>\n",
       "      <td>3301</td>\n",
       "      <td>15766</td>\n",
       "      <td>1238</td>\n",
       "      <td>9</td>\n",
       "      <td>2</td>\n",
       "      <td>19.66</td>\n",
       "      <td>0</td>\n",
       "      <td>0.0</td>\n",
       "      <td>2</td>\n",
       "      <td>1.864592</td>\n",
       "      <td>0.0</td>\n",
       "      <td>1.0</td>\n",
       "      <td>1.000000</td>\n",
       "      <td>1.0</td>\n",
       "      <td>0.0</td>\n",
       "    </tr>\n",
       "  </tbody>\n",
       "</table>\n",
       "</div>"
      ],
      "text/plain": [
       "          Agencia_ID  Canal_ID  Ruta_SAK  Cliente_ID  Producto_ID  Semana  \\\n",
       "5030470         1110         7      3301       15766         1238       5   \n",
       "7545705         1110         7      3301       15766         1238       6   \n",
       "10060940        1110         7      3301       15766         1238       7   \n",
       "12576175        1110         7      3301       15766         1238       8   \n",
       "15091410        1110         7      3301       15766         1238       9   \n",
       "\n",
       "          Venta_uni_hoy  Venta_hoy  Dev_uni_proxima  Dev_proxima  \\\n",
       "5030470               1       9.83                0          0.0   \n",
       "7545705               2      19.66                0          0.0   \n",
       "10060940              2      19.66                0          0.0   \n",
       "12576175              3      29.49                0          0.0   \n",
       "15091410              2      19.66                0          0.0   \n",
       "\n",
       "          Demanda_uni_equil  predicted_demand  old_stock  new_stock  shortage  \\\n",
       "5030470                   1          1.001867        0.0        1.0  0.001867   \n",
       "7545705                   2          1.864592        0.0        1.0  1.000000   \n",
       "10060940                  2          1.864592        0.0        1.0  1.000000   \n",
       "12576175                  3          2.559850        0.0        1.0  2.000000   \n",
       "15091410                  2          1.864592        0.0        1.0  1.000000   \n",
       "\n",
       "          total_sold  spoilage  \n",
       "5030470          1.0       NaN  \n",
       "7545705          1.0       0.0  \n",
       "10060940         1.0       0.0  \n",
       "12576175         1.0       0.0  \n",
       "15091410         1.0       0.0  "
      ]
     },
     "execution_count": 6,
     "metadata": {},
     "output_type": "execute_result"
    }
   ],
   "source": [
    "def add_col_with_initial_value(df, col_name, value):\n",
    "    df.loc[df.index[0], col_name] = value\n",
    "    return df\n",
    "\n",
    "def simulate_outcomes(df, decision_rule):\n",
    "    df = df.copy()\n",
    "    df = add_preds_to_df(df)\n",
    "    df = add_col_with_initial_value(df, \"old_stock\", 0)\n",
    "    first_stocking_decision = decision_rule(df.iloc[0])\n",
    "    df = add_col_with_initial_value(df, \"new_stock\", first_stocking_decision)\n",
    "    first_shortage = max(0, df.iloc[0].predicted_demand - df.iloc[0].new_stock)\n",
    "    first_amount_sold = min(df.iloc[0].Demanda_uni_equil, df.iloc[0].new_stock + df.iloc[0].old_stock)\n",
    "    df = add_col_with_initial_value(df, \"shortage\", first_shortage)\n",
    "    df = add_col_with_initial_value(df, \"total_sold\", first_amount_sold)\n",
    "\n",
    "    # Sometimes can use .shift pattern\n",
    "    prev_period = df.iloc[0, :]\n",
    "    for i in df.index[1:]:\n",
    "        df.loc[i, \"old_stock\"] = max(0,\n",
    "                                    min(prev_period.old_stock + prev_period.new_stock - prev_period.Demanda_uni_equil,\n",
    "                                     prev_period.new_stock\n",
    "                                    ))\n",
    "        df.loc[i, \"new_stock\"] = decision_rule(df.loc[i])\n",
    "        stock_on_hand = df.loc[i, \"old_stock\"] + df.loc[i, \"new_stock\"]\n",
    "        df.loc[i, \"shortage\"] = max(0, df.loc[i, \"Demanda_uni_equil\"] - stock_on_hand)\n",
    "        df.loc[i, \"total_sold\"] = min(df.loc[i, \"Demanda_uni_equil\"], stock_on_hand)\n",
    "        df.loc[i, \"spoilage\"] = max(0, df.loc[i, \"old_stock\"] - df.loc[i, \"Demanda_uni_equil\"])\n",
    "        prev_period = df.loc[i]\n",
    "    return df\n",
    "\n",
    "def first_decision_rule(state):\n",
    "    return 1\n",
    "\n",
    "simulate_outcomes(sample_store_and_product, first_decision_rule)"
   ]
  },
  {
   "attachments": {},
   "cell_type": "markdown",
   "metadata": {},
   "source": [
    "## Scaling to multiple stores"
   ]
  },
  {
   "cell_type": "code",
   "execution_count": 7,
   "metadata": {},
   "outputs": [
    {
     "data": {
      "text/plain": [
       "Agencia_ID\n",
       "1110      14270\n",
       "1111     108890\n",
       "1112      74115\n",
       "1113      43345\n",
       "1114      23035\n",
       "          ...  \n",
       "24049     14915\n",
       "24539     16765\n",
       "24669     23115\n",
       "25699     12140\n",
       "25759      1190\n",
       "Length: 545, dtype: int64"
      ]
     },
     "execution_count": 7,
     "metadata": {},
     "output_type": "execute_result"
    }
   ],
   "source": [
    "decision_data.groupby('Agencia_ID').size()"
   ]
  },
  {
   "cell_type": "code",
   "execution_count": 8,
   "metadata": {},
   "outputs": [],
   "source": [
    "decision_validation_data = decision_data.query('Agencia_ID == 1110')\n",
    "decision_holdout_data = decision_data.query('Agencia_ID == 24049')"
   ]
  },
  {
   "cell_type": "code",
   "execution_count": 9,
   "metadata": {},
   "outputs": [
    {
     "name": "stderr",
     "output_type": "stream",
     "text": [
      "\u001b[34m\u001b[1mwandb\u001b[0m: \u001b[33mWARNING\u001b[0m WANDB_NOTEBOOK_NAME should be a path to a notebook file, couldn't find dynamic_decision_opt.ipynb.\n"
     ]
    },
    {
     "data": {
      "text/html": [
       "Syncing run <strong><a href='https://wandb.ai/danbecker/Dynamic%20Inventory%20Management%20for%20Bimbo/runs/r2m1rsk5' target=\"_blank\">first_decision_rule</a></strong> to <a href='https://wandb.ai/danbecker/Dynamic%20Inventory%20Management%20for%20Bimbo' target=\"_blank\">Weights & Biases</a> (<a href='https://wandb.me/run' target=\"_blank\">docs</a>)<br/>"
      ],
      "text/plain": [
       "<IPython.core.display.HTML object>"
      ]
     },
     "metadata": {},
     "output_type": "display_data"
    },
    {
     "data": {
      "text/html": [
       " View run at <a href='https://wandb.ai/danbecker/Dynamic%20Inventory%20Management%20for%20Bimbo/runs/r2m1rsk5' target=\"_blank\">https://wandb.ai/danbecker/Dynamic%20Inventory%20Management%20for%20Bimbo/runs/r2m1rsk5</a>"
      ],
      "text/plain": [
       "<IPython.core.display.HTML object>"
      ]
     },
     "metadata": {},
     "output_type": "display_data"
    },
    {
     "data": {
      "text/html": [
       "Waiting for W&B process to finish... <strong style=\"color:green\">(success).</strong>"
      ],
      "text/plain": [
       "<IPython.core.display.HTML object>"
      ]
     },
     "metadata": {},
     "output_type": "display_data"
    },
    {
     "data": {
      "text/html": [
       " View run <strong style=\"color:#cdcd00\">first_decision_rule</strong> at: <a href='https://wandb.ai/danbecker/Dynamic%20Inventory%20Management%20for%20Bimbo/runs/r2m1rsk5' target=\"_blank\">https://wandb.ai/danbecker/Dynamic%20Inventory%20Management%20for%20Bimbo/runs/r2m1rsk5</a><br/>Synced 5 W&B file(s), 1 media file(s), 1 artifact file(s) and 0 other file(s)"
      ],
      "text/plain": [
       "<IPython.core.display.HTML object>"
      ]
     },
     "metadata": {},
     "output_type": "display_data"
    },
    {
     "data": {
      "text/html": [
       "<div>\n",
       "<style scoped>\n",
       "    .dataframe tbody tr th:only-of-type {\n",
       "        vertical-align: middle;\n",
       "    }\n",
       "\n",
       "    .dataframe tbody tr th {\n",
       "        vertical-align: top;\n",
       "    }\n",
       "\n",
       "    .dataframe thead th {\n",
       "        text-align: right;\n",
       "    }\n",
       "</style>\n",
       "<table border=\"1\" class=\"dataframe\">\n",
       "  <thead>\n",
       "    <tr style=\"text-align: right;\">\n",
       "      <th></th>\n",
       "      <th>Agencia_ID</th>\n",
       "      <th>Canal_ID</th>\n",
       "      <th>Ruta_SAK</th>\n",
       "      <th>Cliente_ID</th>\n",
       "      <th>Producto_ID</th>\n",
       "      <th>Semana</th>\n",
       "      <th>Venta_uni_hoy</th>\n",
       "      <th>Venta_hoy</th>\n",
       "      <th>Dev_uni_proxima</th>\n",
       "      <th>Dev_proxima</th>\n",
       "      <th>Demanda_uni_equil</th>\n",
       "      <th>predicted_demand</th>\n",
       "      <th>old_stock</th>\n",
       "      <th>new_stock</th>\n",
       "      <th>shortage</th>\n",
       "      <th>total_sold</th>\n",
       "      <th>spoilage</th>\n",
       "    </tr>\n",
       "  </thead>\n",
       "  <tbody>\n",
       "    <tr>\n",
       "      <th>5030470</th>\n",
       "      <td>1110</td>\n",
       "      <td>7</td>\n",
       "      <td>3301</td>\n",
       "      <td>15766</td>\n",
       "      <td>1238</td>\n",
       "      <td>5</td>\n",
       "      <td>1</td>\n",
       "      <td>9.83</td>\n",
       "      <td>0</td>\n",
       "      <td>0.0</td>\n",
       "      <td>1</td>\n",
       "      <td>1.001867</td>\n",
       "      <td>0.0</td>\n",
       "      <td>1.0</td>\n",
       "      <td>0.001867</td>\n",
       "      <td>1.0</td>\n",
       "      <td>NaN</td>\n",
       "    </tr>\n",
       "    <tr>\n",
       "      <th>7545705</th>\n",
       "      <td>1110</td>\n",
       "      <td>7</td>\n",
       "      <td>3301</td>\n",
       "      <td>15766</td>\n",
       "      <td>1238</td>\n",
       "      <td>6</td>\n",
       "      <td>2</td>\n",
       "      <td>19.66</td>\n",
       "      <td>0</td>\n",
       "      <td>0.0</td>\n",
       "      <td>2</td>\n",
       "      <td>1.864592</td>\n",
       "      <td>0.0</td>\n",
       "      <td>1.0</td>\n",
       "      <td>1.000000</td>\n",
       "      <td>1.0</td>\n",
       "      <td>0.0</td>\n",
       "    </tr>\n",
       "    <tr>\n",
       "      <th>10060940</th>\n",
       "      <td>1110</td>\n",
       "      <td>7</td>\n",
       "      <td>3301</td>\n",
       "      <td>15766</td>\n",
       "      <td>1238</td>\n",
       "      <td>7</td>\n",
       "      <td>2</td>\n",
       "      <td>19.66</td>\n",
       "      <td>0</td>\n",
       "      <td>0.0</td>\n",
       "      <td>2</td>\n",
       "      <td>1.864592</td>\n",
       "      <td>0.0</td>\n",
       "      <td>1.0</td>\n",
       "      <td>1.000000</td>\n",
       "      <td>1.0</td>\n",
       "      <td>0.0</td>\n",
       "    </tr>\n",
       "    <tr>\n",
       "      <th>12576175</th>\n",
       "      <td>1110</td>\n",
       "      <td>7</td>\n",
       "      <td>3301</td>\n",
       "      <td>15766</td>\n",
       "      <td>1238</td>\n",
       "      <td>8</td>\n",
       "      <td>3</td>\n",
       "      <td>29.49</td>\n",
       "      <td>0</td>\n",
       "      <td>0.0</td>\n",
       "      <td>3</td>\n",
       "      <td>2.559850</td>\n",
       "      <td>0.0</td>\n",
       "      <td>1.0</td>\n",
       "      <td>2.000000</td>\n",
       "      <td>1.0</td>\n",
       "      <td>0.0</td>\n",
       "    </tr>\n",
       "    <tr>\n",
       "      <th>15091410</th>\n",
       "      <td>1110</td>\n",
       "      <td>7</td>\n",
       "      <td>3301</td>\n",
       "      <td>15766</td>\n",
       "      <td>1238</td>\n",
       "      <td>9</td>\n",
       "      <td>2</td>\n",
       "      <td>19.66</td>\n",
       "      <td>0</td>\n",
       "      <td>0.0</td>\n",
       "      <td>2</td>\n",
       "      <td>1.864592</td>\n",
       "      <td>0.0</td>\n",
       "      <td>1.0</td>\n",
       "      <td>1.000000</td>\n",
       "      <td>1.0</td>\n",
       "      <td>0.0</td>\n",
       "    </tr>\n",
       "    <tr>\n",
       "      <th>...</th>\n",
       "      <td>...</td>\n",
       "      <td>...</td>\n",
       "      <td>...</td>\n",
       "      <td>...</td>\n",
       "      <td>...</td>\n",
       "      <td>...</td>\n",
       "      <td>...</td>\n",
       "      <td>...</td>\n",
       "      <td>...</td>\n",
       "      <td>...</td>\n",
       "      <td>...</td>\n",
       "      <td>...</td>\n",
       "      <td>...</td>\n",
       "      <td>...</td>\n",
       "      <td>...</td>\n",
       "      <td>...</td>\n",
       "      <td>...</td>\n",
       "    </tr>\n",
       "    <tr>\n",
       "      <th>5033323</th>\n",
       "      <td>1110</td>\n",
       "      <td>11</td>\n",
       "      <td>3504</td>\n",
       "      <td>4706818</td>\n",
       "      <td>1146</td>\n",
       "      <td>5</td>\n",
       "      <td>1</td>\n",
       "      <td>21.39</td>\n",
       "      <td>0</td>\n",
       "      <td>0.0</td>\n",
       "      <td>1</td>\n",
       "      <td>1.042666</td>\n",
       "      <td>0.0</td>\n",
       "      <td>1.0</td>\n",
       "      <td>0.042666</td>\n",
       "      <td>1.0</td>\n",
       "      <td>NaN</td>\n",
       "    </tr>\n",
       "    <tr>\n",
       "      <th>7548558</th>\n",
       "      <td>1110</td>\n",
       "      <td>11</td>\n",
       "      <td>3504</td>\n",
       "      <td>4706818</td>\n",
       "      <td>1146</td>\n",
       "      <td>6</td>\n",
       "      <td>2</td>\n",
       "      <td>42.78</td>\n",
       "      <td>0</td>\n",
       "      <td>0.0</td>\n",
       "      <td>2</td>\n",
       "      <td>1.914276</td>\n",
       "      <td>0.0</td>\n",
       "      <td>1.0</td>\n",
       "      <td>1.000000</td>\n",
       "      <td>1.0</td>\n",
       "      <td>0.0</td>\n",
       "    </tr>\n",
       "    <tr>\n",
       "      <th>10063793</th>\n",
       "      <td>1110</td>\n",
       "      <td>11</td>\n",
       "      <td>3504</td>\n",
       "      <td>4706818</td>\n",
       "      <td>1146</td>\n",
       "      <td>7</td>\n",
       "      <td>1</td>\n",
       "      <td>21.39</td>\n",
       "      <td>0</td>\n",
       "      <td>0.0</td>\n",
       "      <td>1</td>\n",
       "      <td>1.042666</td>\n",
       "      <td>0.0</td>\n",
       "      <td>1.0</td>\n",
       "      <td>0.000000</td>\n",
       "      <td>1.0</td>\n",
       "      <td>0.0</td>\n",
       "    </tr>\n",
       "    <tr>\n",
       "      <th>12579028</th>\n",
       "      <td>1110</td>\n",
       "      <td>11</td>\n",
       "      <td>3504</td>\n",
       "      <td>4706818</td>\n",
       "      <td>1146</td>\n",
       "      <td>8</td>\n",
       "      <td>2</td>\n",
       "      <td>42.78</td>\n",
       "      <td>0</td>\n",
       "      <td>0.0</td>\n",
       "      <td>2</td>\n",
       "      <td>1.914276</td>\n",
       "      <td>0.0</td>\n",
       "      <td>1.0</td>\n",
       "      <td>1.000000</td>\n",
       "      <td>1.0</td>\n",
       "      <td>0.0</td>\n",
       "    </tr>\n",
       "    <tr>\n",
       "      <th>15094263</th>\n",
       "      <td>1110</td>\n",
       "      <td>11</td>\n",
       "      <td>3504</td>\n",
       "      <td>4706818</td>\n",
       "      <td>1146</td>\n",
       "      <td>9</td>\n",
       "      <td>1</td>\n",
       "      <td>21.39</td>\n",
       "      <td>0</td>\n",
       "      <td>0.0</td>\n",
       "      <td>1</td>\n",
       "      <td>1.042666</td>\n",
       "      <td>0.0</td>\n",
       "      <td>1.0</td>\n",
       "      <td>0.000000</td>\n",
       "      <td>1.0</td>\n",
       "      <td>0.0</td>\n",
       "    </tr>\n",
       "  </tbody>\n",
       "</table>\n",
       "<p>14270 rows × 17 columns</p>\n",
       "</div>"
      ],
      "text/plain": [
       "          Agencia_ID  Canal_ID  Ruta_SAK  Cliente_ID  Producto_ID  Semana  \\\n",
       "5030470         1110         7      3301       15766         1238       5   \n",
       "7545705         1110         7      3301       15766         1238       6   \n",
       "10060940        1110         7      3301       15766         1238       7   \n",
       "12576175        1110         7      3301       15766         1238       8   \n",
       "15091410        1110         7      3301       15766         1238       9   \n",
       "...              ...       ...       ...         ...          ...     ...   \n",
       "5033323         1110        11      3504     4706818         1146       5   \n",
       "7548558         1110        11      3504     4706818         1146       6   \n",
       "10063793        1110        11      3504     4706818         1146       7   \n",
       "12579028        1110        11      3504     4706818         1146       8   \n",
       "15094263        1110        11      3504     4706818         1146       9   \n",
       "\n",
       "          Venta_uni_hoy  Venta_hoy  Dev_uni_proxima  Dev_proxima  \\\n",
       "5030470               1       9.83                0          0.0   \n",
       "7545705               2      19.66                0          0.0   \n",
       "10060940              2      19.66                0          0.0   \n",
       "12576175              3      29.49                0          0.0   \n",
       "15091410              2      19.66                0          0.0   \n",
       "...                 ...        ...              ...          ...   \n",
       "5033323               1      21.39                0          0.0   \n",
       "7548558               2      42.78                0          0.0   \n",
       "10063793              1      21.39                0          0.0   \n",
       "12579028              2      42.78                0          0.0   \n",
       "15094263              1      21.39                0          0.0   \n",
       "\n",
       "          Demanda_uni_equil  predicted_demand  old_stock  new_stock  shortage  \\\n",
       "5030470                   1          1.001867        0.0        1.0  0.001867   \n",
       "7545705                   2          1.864592        0.0        1.0  1.000000   \n",
       "10060940                  2          1.864592        0.0        1.0  1.000000   \n",
       "12576175                  3          2.559850        0.0        1.0  2.000000   \n",
       "15091410                  2          1.864592        0.0        1.0  1.000000   \n",
       "...                     ...               ...        ...        ...       ...   \n",
       "5033323                   1          1.042666        0.0        1.0  0.042666   \n",
       "7548558                   2          1.914276        0.0        1.0  1.000000   \n",
       "10063793                  1          1.042666        0.0        1.0  0.000000   \n",
       "12579028                  2          1.914276        0.0        1.0  1.000000   \n",
       "15094263                  1          1.042666        0.0        1.0  0.000000   \n",
       "\n",
       "          total_sold  spoilage  \n",
       "5030470          1.0       NaN  \n",
       "7545705          1.0       0.0  \n",
       "10060940         1.0       0.0  \n",
       "12576175         1.0       0.0  \n",
       "15091410         1.0       0.0  \n",
       "...              ...       ...  \n",
       "5033323          1.0       NaN  \n",
       "7548558          1.0       0.0  \n",
       "10063793         1.0       0.0  \n",
       "12579028         1.0       0.0  \n",
       "15094263         1.0       0.0  \n",
       "\n",
       "[14270 rows x 17 columns]"
      ]
     },
     "execution_count": 9,
     "metadata": {},
     "output_type": "execute_result"
    }
   ],
   "source": [
    "def objective_function(df):\n",
    "    return df.total_sold.sum() - 3*df.shortage.sum() - 0.5 * df.spoilage.sum() - 0.5*df.old_stock.sum()\n",
    "\n",
    "def log_metrics(outcomes, decision_function, tags=None):\n",
    "    with wandb.init(project=project_name,\n",
    "                    name=decision_function.__name__,\n",
    "                    job_type=\"simulation outcomes\",\n",
    "                    tags=tags\n",
    "                    ):\n",
    "        wandb.log({\n",
    "            \"number_of_orders\": outcomes.new_stock.count(),\n",
    "            \"total_inventory_orders\": outcomes.new_stock.sum(),\n",
    "            \"number_of_shortages\": (outcomes.shortage > 0).sum(),\n",
    "            \"total_shortage\": outcomes.shortage.sum(),\n",
    "            \"total_sold\": outcomes.total_sold.sum(),\n",
    "            \"total_old_stock\": outcomes.old_stock.sum(),\n",
    "            \"full_outcome\": outcomes[store_product_ids + ['Semana', 'old_stock', 'new_stock', 'shortage', 'total_sold', 'spoilage']],\n",
    "            \"objective_function\": objective_function(outcomes)\n",
    "        })\n",
    "    return\n",
    "\n",
    "def simulate_multiple_stores_and_products(raw_data, decision_function, tags, log=True):\n",
    "    groups = raw_data.groupby(store_product_ids)\n",
    "    outcomes = pd.concat([simulate_outcomes(group, decision_function) for _, group in groups])\n",
    "    if log:\n",
    "        log_metrics(outcomes, decision_function, tags)\n",
    "    return outcomes\n",
    "\n",
    "simulate_multiple_stores_and_products(decision_validation_data, first_decision_rule, tags=[\"agencia_1110\"])"
   ]
  },
  {
   "cell_type": "code",
   "execution_count": 10,
   "metadata": {},
   "outputs": [
    {
     "data": {
      "text/html": [
       "Syncing run <strong><a href='https://wandb.ai/danbecker/Dynamic%20Inventory%20Management%20for%20Bimbo/runs/uufcdl8n' target=\"_blank\">first_decision_rule</a></strong> to <a href='https://wandb.ai/danbecker/Dynamic%20Inventory%20Management%20for%20Bimbo' target=\"_blank\">Weights & Biases</a> (<a href='https://wandb.me/run' target=\"_blank\">docs</a>)<br/>"
      ],
      "text/plain": [
       "<IPython.core.display.HTML object>"
      ]
     },
     "metadata": {},
     "output_type": "display_data"
    },
    {
     "data": {
      "text/html": [
       " View run at <a href='https://wandb.ai/danbecker/Dynamic%20Inventory%20Management%20for%20Bimbo/runs/uufcdl8n' target=\"_blank\">https://wandb.ai/danbecker/Dynamic%20Inventory%20Management%20for%20Bimbo/runs/uufcdl8n</a>"
      ],
      "text/plain": [
       "<IPython.core.display.HTML object>"
      ]
     },
     "metadata": {},
     "output_type": "display_data"
    },
    {
     "data": {
      "text/html": [
       "Waiting for W&B process to finish... <strong style=\"color:green\">(success).</strong>"
      ],
      "text/plain": [
       "<IPython.core.display.HTML object>"
      ]
     },
     "metadata": {},
     "output_type": "display_data"
    },
    {
     "data": {
      "text/html": [
       " View run <strong style=\"color:#cdcd00\">first_decision_rule</strong> at: <a href='https://wandb.ai/danbecker/Dynamic%20Inventory%20Management%20for%20Bimbo/runs/uufcdl8n' target=\"_blank\">https://wandb.ai/danbecker/Dynamic%20Inventory%20Management%20for%20Bimbo/runs/uufcdl8n</a><br/>Synced 5 W&B file(s), 1 media file(s), 1 artifact file(s) and 0 other file(s)"
      ],
      "text/plain": [
       "<IPython.core.display.HTML object>"
      ]
     },
     "metadata": {},
     "output_type": "display_data"
    },
    {
     "data": {
      "text/html": [
       "Syncing run <strong><a href='https://wandb.ai/danbecker/Dynamic%20Inventory%20Management%20for%20Bimbo/runs/qmk712wr' target=\"_blank\">predicted_need</a></strong> to <a href='https://wandb.ai/danbecker/Dynamic%20Inventory%20Management%20for%20Bimbo' target=\"_blank\">Weights & Biases</a> (<a href='https://wandb.me/run' target=\"_blank\">docs</a>)<br/>"
      ],
      "text/plain": [
       "<IPython.core.display.HTML object>"
      ]
     },
     "metadata": {},
     "output_type": "display_data"
    },
    {
     "data": {
      "text/html": [
       " View run at <a href='https://wandb.ai/danbecker/Dynamic%20Inventory%20Management%20for%20Bimbo/runs/qmk712wr' target=\"_blank\">https://wandb.ai/danbecker/Dynamic%20Inventory%20Management%20for%20Bimbo/runs/qmk712wr</a>"
      ],
      "text/plain": [
       "<IPython.core.display.HTML object>"
      ]
     },
     "metadata": {},
     "output_type": "display_data"
    },
    {
     "data": {
      "text/html": [
       "Waiting for W&B process to finish... <strong style=\"color:green\">(success).</strong>"
      ],
      "text/plain": [
       "<IPython.core.display.HTML object>"
      ]
     },
     "metadata": {},
     "output_type": "display_data"
    },
    {
     "data": {
      "text/html": [
       " View run <strong style=\"color:#cdcd00\">predicted_need</strong> at: <a href='https://wandb.ai/danbecker/Dynamic%20Inventory%20Management%20for%20Bimbo/runs/qmk712wr' target=\"_blank\">https://wandb.ai/danbecker/Dynamic%20Inventory%20Management%20for%20Bimbo/runs/qmk712wr</a><br/>Synced 5 W&B file(s), 1 media file(s), 1 artifact file(s) and 0 other file(s)"
      ],
      "text/plain": [
       "<IPython.core.display.HTML object>"
      ]
     },
     "metadata": {},
     "output_type": "display_data"
    },
    {
     "data": {
      "text/html": [
       "Syncing run <strong><a href='https://wandb.ai/danbecker/Dynamic%20Inventory%20Management%20for%20Bimbo/runs/ce8xpcou' target=\"_blank\">predicted_need_plus_one</a></strong> to <a href='https://wandb.ai/danbecker/Dynamic%20Inventory%20Management%20for%20Bimbo' target=\"_blank\">Weights & Biases</a> (<a href='https://wandb.me/run' target=\"_blank\">docs</a>)<br/>"
      ],
      "text/plain": [
       "<IPython.core.display.HTML object>"
      ]
     },
     "metadata": {},
     "output_type": "display_data"
    },
    {
     "data": {
      "text/html": [
       " View run at <a href='https://wandb.ai/danbecker/Dynamic%20Inventory%20Management%20for%20Bimbo/runs/ce8xpcou' target=\"_blank\">https://wandb.ai/danbecker/Dynamic%20Inventory%20Management%20for%20Bimbo/runs/ce8xpcou</a>"
      ],
      "text/plain": [
       "<IPython.core.display.HTML object>"
      ]
     },
     "metadata": {},
     "output_type": "display_data"
    },
    {
     "data": {
      "text/html": [
       "Waiting for W&B process to finish... <strong style=\"color:green\">(success).</strong>"
      ],
      "text/plain": [
       "<IPython.core.display.HTML object>"
      ]
     },
     "metadata": {},
     "output_type": "display_data"
    },
    {
     "data": {
      "text/html": [
       " View run <strong style=\"color:#cdcd00\">predicted_need_plus_one</strong> at: <a href='https://wandb.ai/danbecker/Dynamic%20Inventory%20Management%20for%20Bimbo/runs/ce8xpcou' target=\"_blank\">https://wandb.ai/danbecker/Dynamic%20Inventory%20Management%20for%20Bimbo/runs/ce8xpcou</a><br/>Synced 5 W&B file(s), 1 media file(s), 1 artifact file(s) and 0 other file(s)"
      ],
      "text/plain": [
       "<IPython.core.display.HTML object>"
      ]
     },
     "metadata": {},
     "output_type": "display_data"
    },
    {
     "data": {
      "text/html": [
       "Syncing run <strong><a href='https://wandb.ai/danbecker/Dynamic%20Inventory%20Management%20for%20Bimbo/runs/r3ocp270' target=\"_blank\">predicted_demand</a></strong> to <a href='https://wandb.ai/danbecker/Dynamic%20Inventory%20Management%20for%20Bimbo' target=\"_blank\">Weights & Biases</a> (<a href='https://wandb.me/run' target=\"_blank\">docs</a>)<br/>"
      ],
      "text/plain": [
       "<IPython.core.display.HTML object>"
      ]
     },
     "metadata": {},
     "output_type": "display_data"
    },
    {
     "data": {
      "text/html": [
       " View run at <a href='https://wandb.ai/danbecker/Dynamic%20Inventory%20Management%20for%20Bimbo/runs/r3ocp270' target=\"_blank\">https://wandb.ai/danbecker/Dynamic%20Inventory%20Management%20for%20Bimbo/runs/r3ocp270</a>"
      ],
      "text/plain": [
       "<IPython.core.display.HTML object>"
      ]
     },
     "metadata": {},
     "output_type": "display_data"
    },
    {
     "data": {
      "text/html": [
       "Waiting for W&B process to finish... <strong style=\"color:green\">(success).</strong>"
      ],
      "text/plain": [
       "<IPython.core.display.HTML object>"
      ]
     },
     "metadata": {},
     "output_type": "display_data"
    },
    {
     "data": {
      "text/html": [
       " View run <strong style=\"color:#cdcd00\">predicted_demand</strong> at: <a href='https://wandb.ai/danbecker/Dynamic%20Inventory%20Management%20for%20Bimbo/runs/r3ocp270' target=\"_blank\">https://wandb.ai/danbecker/Dynamic%20Inventory%20Management%20for%20Bimbo/runs/r3ocp270</a><br/>Synced 5 W&B file(s), 1 media file(s), 1 artifact file(s) and 0 other file(s)"
      ],
      "text/plain": [
       "<IPython.core.display.HTML object>"
      ]
     },
     "metadata": {},
     "output_type": "display_data"
    }
   ],
   "source": [
    "import numpy as np\n",
    "\n",
    "def predicted_need(state):\n",
    "    return np.ceil(state.predicted_demand - state.old_stock)\n",
    "\n",
    "def predicted_need_plus_one(state):\n",
    "    return predicted_need(state) + 1\n",
    "\n",
    "def predicted_demand(state):\n",
    "    return np.ceil(state.predicted_demand)\n",
    "\n",
    "for rule in [first_decision_rule, predicted_need, predicted_need_plus_one, predicted_demand]:\n",
    "    simulate_multiple_stores_and_products(decision_validation_data, rule, tags=[\"agencia_1110\"])\n"
   ]
  },
  {
   "attachments": {},
   "cell_type": "markdown",
   "metadata": {},
   "source": [
    "# Programmatic Optimization"
   ]
  },
  {
   "cell_type": "code",
   "execution_count": 11,
   "metadata": {},
   "outputs": [
    {
     "name": "stdout",
     "output_type": "stream",
     "text": [
      "Create sweep with ID: lbluda5b\n",
      "Sweep URL: https://wandb.ai/danbecker/Dynamic%20Inventory%20Management%20for%20Bimbo/sweeps/lbluda5b\n"
     ]
    },
    {
     "name": "stderr",
     "output_type": "stream",
     "text": [
      "\u001b[34m\u001b[1mwandb\u001b[0m: Agent Starting Run: f5tvhb9q with config:\n",
      "\u001b[34m\u001b[1mwandb\u001b[0m: \tconstant: 1.695053619214561\n",
      "\u001b[34m\u001b[1mwandb\u001b[0m: \told_stock_mult: -1.0480853784746338\n",
      "\u001b[34m\u001b[1mwandb\u001b[0m: \tpredicted_demand_mult: 0.19530161088577075\n",
      "\u001b[34m\u001b[1mwandb\u001b[0m: \u001b[33mWARNING\u001b[0m WANDB_NOTEBOOK_NAME should be a path to a notebook file, couldn't find dynamic_decision_opt.ipynb.\n",
      "\u001b[34m\u001b[1mwandb\u001b[0m: \u001b[33mWARNING\u001b[0m Ignored wandb.init() arg project when running a sweep.\n"
     ]
    },
    {
     "data": {
      "text/html": [
       "Syncing run <strong><a href='https://wandb.ai/danbecker/Dynamic%20Inventory%20Management%20for%20Bimbo/runs/f5tvhb9q' target=\"_blank\">desert-sweep-1</a></strong> to <a href='https://wandb.ai/danbecker/Dynamic%20Inventory%20Management%20for%20Bimbo' target=\"_blank\">Weights & Biases</a> (<a href='https://wandb.me/run' target=\"_blank\">docs</a>)<br/>Sweep page: <a href='https://wandb.ai/danbecker/Dynamic%20Inventory%20Management%20for%20Bimbo/sweeps/lbluda5b' target=\"_blank\">https://wandb.ai/danbecker/Dynamic%20Inventory%20Management%20for%20Bimbo/sweeps/lbluda5b</a>"
      ],
      "text/plain": [
       "<IPython.core.display.HTML object>"
      ]
     },
     "metadata": {},
     "output_type": "display_data"
    },
    {
     "data": {
      "text/html": [
       " View run at <a href='https://wandb.ai/danbecker/Dynamic%20Inventory%20Management%20for%20Bimbo/runs/f5tvhb9q' target=\"_blank\">https://wandb.ai/danbecker/Dynamic%20Inventory%20Management%20for%20Bimbo/runs/f5tvhb9q</a>"
      ],
      "text/plain": [
       "<IPython.core.display.HTML object>"
      ]
     },
     "metadata": {},
     "output_type": "display_data"
    },
    {
     "data": {
      "text/html": [
       "Waiting for W&B process to finish... <strong style=\"color:green\">(success).</strong>"
      ],
      "text/plain": [
       "<IPython.core.display.HTML object>"
      ]
     },
     "metadata": {},
     "output_type": "display_data"
    },
    {
     "data": {
      "text/html": [
       " View run <strong style=\"color:#cdcd00\">desert-sweep-1</strong> at: <a href='https://wandb.ai/danbecker/Dynamic%20Inventory%20Management%20for%20Bimbo/runs/f5tvhb9q' target=\"_blank\">https://wandb.ai/danbecker/Dynamic%20Inventory%20Management%20for%20Bimbo/runs/f5tvhb9q</a><br/>Synced 5 W&B file(s), 0 media file(s), 0 artifact file(s) and 0 other file(s)"
      ],
      "text/plain": [
       "<IPython.core.display.HTML object>"
      ]
     },
     "metadata": {},
     "output_type": "display_data"
    },
    {
     "name": "stderr",
     "output_type": "stream",
     "text": [
      "\u001b[34m\u001b[1mwandb\u001b[0m: Sweep Agent: Waiting for job.\n",
      "\u001b[34m\u001b[1mwandb\u001b[0m: Job received.\n",
      "\u001b[34m\u001b[1mwandb\u001b[0m: Agent Starting Run: yh3o3cwc with config:\n",
      "\u001b[34m\u001b[1mwandb\u001b[0m: \tconstant: 2.87896143271543\n",
      "\u001b[34m\u001b[1mwandb\u001b[0m: \told_stock_mult: -0.005086160307670173\n",
      "\u001b[34m\u001b[1mwandb\u001b[0m: \tpredicted_demand_mult: 1.392191620002041\n",
      "\u001b[34m\u001b[1mwandb\u001b[0m: \u001b[33mWARNING\u001b[0m WANDB_NOTEBOOK_NAME should be a path to a notebook file, couldn't find dynamic_decision_opt.ipynb.\n",
      "\u001b[34m\u001b[1mwandb\u001b[0m: \u001b[33mWARNING\u001b[0m Ignored wandb.init() arg project when running a sweep.\n"
     ]
    },
    {
     "data": {
      "text/html": [
       "Syncing run <strong><a href='https://wandb.ai/danbecker/Dynamic%20Inventory%20Management%20for%20Bimbo/runs/yh3o3cwc' target=\"_blank\">scarlet-sweep-2</a></strong> to <a href='https://wandb.ai/danbecker/Dynamic%20Inventory%20Management%20for%20Bimbo' target=\"_blank\">Weights & Biases</a> (<a href='https://wandb.me/run' target=\"_blank\">docs</a>)<br/>Sweep page: <a href='https://wandb.ai/danbecker/Dynamic%20Inventory%20Management%20for%20Bimbo/sweeps/lbluda5b' target=\"_blank\">https://wandb.ai/danbecker/Dynamic%20Inventory%20Management%20for%20Bimbo/sweeps/lbluda5b</a>"
      ],
      "text/plain": [
       "<IPython.core.display.HTML object>"
      ]
     },
     "metadata": {},
     "output_type": "display_data"
    },
    {
     "data": {
      "text/html": [
       " View run at <a href='https://wandb.ai/danbecker/Dynamic%20Inventory%20Management%20for%20Bimbo/runs/yh3o3cwc' target=\"_blank\">https://wandb.ai/danbecker/Dynamic%20Inventory%20Management%20for%20Bimbo/runs/yh3o3cwc</a>"
      ],
      "text/plain": [
       "<IPython.core.display.HTML object>"
      ]
     },
     "metadata": {},
     "output_type": "display_data"
    },
    {
     "data": {
      "text/html": [
       "Waiting for W&B process to finish... <strong style=\"color:green\">(success).</strong>"
      ],
      "text/plain": [
       "<IPython.core.display.HTML object>"
      ]
     },
     "metadata": {},
     "output_type": "display_data"
    },
    {
     "data": {
      "text/html": [
       " View run <strong style=\"color:#cdcd00\">scarlet-sweep-2</strong> at: <a href='https://wandb.ai/danbecker/Dynamic%20Inventory%20Management%20for%20Bimbo/runs/yh3o3cwc' target=\"_blank\">https://wandb.ai/danbecker/Dynamic%20Inventory%20Management%20for%20Bimbo/runs/yh3o3cwc</a><br/>Synced 5 W&B file(s), 0 media file(s), 0 artifact file(s) and 0 other file(s)"
      ],
      "text/plain": [
       "<IPython.core.display.HTML object>"
      ]
     },
     "metadata": {},
     "output_type": "display_data"
    },
    {
     "name": "stderr",
     "output_type": "stream",
     "text": [
      "\u001b[34m\u001b[1mwandb\u001b[0m: Agent Starting Run: 0byx6nvn with config:\n",
      "\u001b[34m\u001b[1mwandb\u001b[0m: \tconstant: 4.005385495815188\n",
      "\u001b[34m\u001b[1mwandb\u001b[0m: \told_stock_mult: -0.43922425520563824\n",
      "\u001b[34m\u001b[1mwandb\u001b[0m: \tpredicted_demand_mult: 1.4724187618891382\n",
      "\u001b[34m\u001b[1mwandb\u001b[0m: \u001b[33mWARNING\u001b[0m WANDB_NOTEBOOK_NAME should be a path to a notebook file, couldn't find dynamic_decision_opt.ipynb.\n",
      "\u001b[34m\u001b[1mwandb\u001b[0m: \u001b[33mWARNING\u001b[0m Ignored wandb.init() arg project when running a sweep.\n"
     ]
    },
    {
     "data": {
      "text/html": [
       "Syncing run <strong><a href='https://wandb.ai/danbecker/Dynamic%20Inventory%20Management%20for%20Bimbo/runs/0byx6nvn' target=\"_blank\">major-sweep-3</a></strong> to <a href='https://wandb.ai/danbecker/Dynamic%20Inventory%20Management%20for%20Bimbo' target=\"_blank\">Weights & Biases</a> (<a href='https://wandb.me/run' target=\"_blank\">docs</a>)<br/>Sweep page: <a href='https://wandb.ai/danbecker/Dynamic%20Inventory%20Management%20for%20Bimbo/sweeps/lbluda5b' target=\"_blank\">https://wandb.ai/danbecker/Dynamic%20Inventory%20Management%20for%20Bimbo/sweeps/lbluda5b</a>"
      ],
      "text/plain": [
       "<IPython.core.display.HTML object>"
      ]
     },
     "metadata": {},
     "output_type": "display_data"
    },
    {
     "data": {
      "text/html": [
       " View run at <a href='https://wandb.ai/danbecker/Dynamic%20Inventory%20Management%20for%20Bimbo/runs/0byx6nvn' target=\"_blank\">https://wandb.ai/danbecker/Dynamic%20Inventory%20Management%20for%20Bimbo/runs/0byx6nvn</a>"
      ],
      "text/plain": [
       "<IPython.core.display.HTML object>"
      ]
     },
     "metadata": {},
     "output_type": "display_data"
    },
    {
     "data": {
      "text/html": [
       "Waiting for W&B process to finish... <strong style=\"color:green\">(success).</strong>"
      ],
      "text/plain": [
       "<IPython.core.display.HTML object>"
      ]
     },
     "metadata": {},
     "output_type": "display_data"
    },
    {
     "data": {
      "text/html": [
       " View run <strong style=\"color:#cdcd00\">major-sweep-3</strong> at: <a href='https://wandb.ai/danbecker/Dynamic%20Inventory%20Management%20for%20Bimbo/runs/0byx6nvn' target=\"_blank\">https://wandb.ai/danbecker/Dynamic%20Inventory%20Management%20for%20Bimbo/runs/0byx6nvn</a><br/>Synced 5 W&B file(s), 0 media file(s), 0 artifact file(s) and 0 other file(s)"
      ],
      "text/plain": [
       "<IPython.core.display.HTML object>"
      ]
     },
     "metadata": {},
     "output_type": "display_data"
    },
    {
     "name": "stderr",
     "output_type": "stream",
     "text": [
      "\u001b[34m\u001b[1mwandb\u001b[0m: Agent Starting Run: bctc2jg1 with config:\n",
      "\u001b[34m\u001b[1mwandb\u001b[0m: \tconstant: 4.7782854123306855\n",
      "\u001b[34m\u001b[1mwandb\u001b[0m: \told_stock_mult: -0.14348988858048295\n",
      "\u001b[34m\u001b[1mwandb\u001b[0m: \tpredicted_demand_mult: 1.4983451976149582\n",
      "\u001b[34m\u001b[1mwandb\u001b[0m: \u001b[33mWARNING\u001b[0m WANDB_NOTEBOOK_NAME should be a path to a notebook file, couldn't find dynamic_decision_opt.ipynb.\n",
      "\u001b[34m\u001b[1mwandb\u001b[0m: \u001b[33mWARNING\u001b[0m Ignored wandb.init() arg project when running a sweep.\n"
     ]
    },
    {
     "data": {
      "text/html": [
       "Syncing run <strong><a href='https://wandb.ai/danbecker/Dynamic%20Inventory%20Management%20for%20Bimbo/runs/bctc2jg1' target=\"_blank\">summer-sweep-4</a></strong> to <a href='https://wandb.ai/danbecker/Dynamic%20Inventory%20Management%20for%20Bimbo' target=\"_blank\">Weights & Biases</a> (<a href='https://wandb.me/run' target=\"_blank\">docs</a>)<br/>Sweep page: <a href='https://wandb.ai/danbecker/Dynamic%20Inventory%20Management%20for%20Bimbo/sweeps/lbluda5b' target=\"_blank\">https://wandb.ai/danbecker/Dynamic%20Inventory%20Management%20for%20Bimbo/sweeps/lbluda5b</a>"
      ],
      "text/plain": [
       "<IPython.core.display.HTML object>"
      ]
     },
     "metadata": {},
     "output_type": "display_data"
    },
    {
     "data": {
      "text/html": [
       " View run at <a href='https://wandb.ai/danbecker/Dynamic%20Inventory%20Management%20for%20Bimbo/runs/bctc2jg1' target=\"_blank\">https://wandb.ai/danbecker/Dynamic%20Inventory%20Management%20for%20Bimbo/runs/bctc2jg1</a>"
      ],
      "text/plain": [
       "<IPython.core.display.HTML object>"
      ]
     },
     "metadata": {},
     "output_type": "display_data"
    },
    {
     "data": {
      "text/html": [
       "Waiting for W&B process to finish... <strong style=\"color:green\">(success).</strong>"
      ],
      "text/plain": [
       "<IPython.core.display.HTML object>"
      ]
     },
     "metadata": {},
     "output_type": "display_data"
    },
    {
     "data": {
      "text/html": [
       " View run <strong style=\"color:#cdcd00\">summer-sweep-4</strong> at: <a href='https://wandb.ai/danbecker/Dynamic%20Inventory%20Management%20for%20Bimbo/runs/bctc2jg1' target=\"_blank\">https://wandb.ai/danbecker/Dynamic%20Inventory%20Management%20for%20Bimbo/runs/bctc2jg1</a><br/>Synced 5 W&B file(s), 0 media file(s), 0 artifact file(s) and 0 other file(s)"
      ],
      "text/plain": [
       "<IPython.core.display.HTML object>"
      ]
     },
     "metadata": {},
     "output_type": "display_data"
    },
    {
     "name": "stderr",
     "output_type": "stream",
     "text": [
      "\u001b[34m\u001b[1mwandb\u001b[0m: Agent Starting Run: 09xlbwza with config:\n",
      "\u001b[34m\u001b[1mwandb\u001b[0m: \tconstant: 4.8739632914690025\n",
      "\u001b[34m\u001b[1mwandb\u001b[0m: \told_stock_mult: -0.9869846867755748\n",
      "\u001b[34m\u001b[1mwandb\u001b[0m: \tpredicted_demand_mult: 1.48152097755659\n",
      "\u001b[34m\u001b[1mwandb\u001b[0m: \u001b[33mWARNING\u001b[0m WANDB_NOTEBOOK_NAME should be a path to a notebook file, couldn't find dynamic_decision_opt.ipynb.\n",
      "\u001b[34m\u001b[1mwandb\u001b[0m: \u001b[33mWARNING\u001b[0m Ignored wandb.init() arg project when running a sweep.\n"
     ]
    },
    {
     "data": {
      "text/html": [
       "Syncing run <strong><a href='https://wandb.ai/danbecker/Dynamic%20Inventory%20Management%20for%20Bimbo/runs/09xlbwza' target=\"_blank\">twilight-sweep-5</a></strong> to <a href='https://wandb.ai/danbecker/Dynamic%20Inventory%20Management%20for%20Bimbo' target=\"_blank\">Weights & Biases</a> (<a href='https://wandb.me/run' target=\"_blank\">docs</a>)<br/>Sweep page: <a href='https://wandb.ai/danbecker/Dynamic%20Inventory%20Management%20for%20Bimbo/sweeps/lbluda5b' target=\"_blank\">https://wandb.ai/danbecker/Dynamic%20Inventory%20Management%20for%20Bimbo/sweeps/lbluda5b</a>"
      ],
      "text/plain": [
       "<IPython.core.display.HTML object>"
      ]
     },
     "metadata": {},
     "output_type": "display_data"
    },
    {
     "data": {
      "text/html": [
       " View run at <a href='https://wandb.ai/danbecker/Dynamic%20Inventory%20Management%20for%20Bimbo/runs/09xlbwza' target=\"_blank\">https://wandb.ai/danbecker/Dynamic%20Inventory%20Management%20for%20Bimbo/runs/09xlbwza</a>"
      ],
      "text/plain": [
       "<IPython.core.display.HTML object>"
      ]
     },
     "metadata": {},
     "output_type": "display_data"
    },
    {
     "data": {
      "text/html": [
       "Waiting for W&B process to finish... <strong style=\"color:green\">(success).</strong>"
      ],
      "text/plain": [
       "<IPython.core.display.HTML object>"
      ]
     },
     "metadata": {},
     "output_type": "display_data"
    },
    {
     "data": {
      "text/html": [
       " View run <strong style=\"color:#cdcd00\">twilight-sweep-5</strong> at: <a href='https://wandb.ai/danbecker/Dynamic%20Inventory%20Management%20for%20Bimbo/runs/09xlbwza' target=\"_blank\">https://wandb.ai/danbecker/Dynamic%20Inventory%20Management%20for%20Bimbo/runs/09xlbwza</a><br/>Synced 5 W&B file(s), 0 media file(s), 0 artifact file(s) and 0 other file(s)"
      ],
      "text/plain": [
       "<IPython.core.display.HTML object>"
      ]
     },
     "metadata": {},
     "output_type": "display_data"
    },
    {
     "name": "stderr",
     "output_type": "stream",
     "text": [
      "\u001b[34m\u001b[1mwandb\u001b[0m: Agent Starting Run: n3con9de with config:\n",
      "\u001b[34m\u001b[1mwandb\u001b[0m: \tconstant: 4.283815502663464\n",
      "\u001b[34m\u001b[1mwandb\u001b[0m: \told_stock_mult: -1.2376245413723592\n",
      "\u001b[34m\u001b[1mwandb\u001b[0m: \tpredicted_demand_mult: 1.480949218127955\n",
      "\u001b[34m\u001b[1mwandb\u001b[0m: \u001b[33mWARNING\u001b[0m WANDB_NOTEBOOK_NAME should be a path to a notebook file, couldn't find dynamic_decision_opt.ipynb.\n",
      "\u001b[34m\u001b[1mwandb\u001b[0m: \u001b[33mWARNING\u001b[0m Ignored wandb.init() arg project when running a sweep.\n"
     ]
    },
    {
     "data": {
      "text/html": [
       "Syncing run <strong><a href='https://wandb.ai/danbecker/Dynamic%20Inventory%20Management%20for%20Bimbo/runs/n3con9de' target=\"_blank\">vital-sweep-6</a></strong> to <a href='https://wandb.ai/danbecker/Dynamic%20Inventory%20Management%20for%20Bimbo' target=\"_blank\">Weights & Biases</a> (<a href='https://wandb.me/run' target=\"_blank\">docs</a>)<br/>Sweep page: <a href='https://wandb.ai/danbecker/Dynamic%20Inventory%20Management%20for%20Bimbo/sweeps/lbluda5b' target=\"_blank\">https://wandb.ai/danbecker/Dynamic%20Inventory%20Management%20for%20Bimbo/sweeps/lbluda5b</a>"
      ],
      "text/plain": [
       "<IPython.core.display.HTML object>"
      ]
     },
     "metadata": {},
     "output_type": "display_data"
    },
    {
     "data": {
      "text/html": [
       " View run at <a href='https://wandb.ai/danbecker/Dynamic%20Inventory%20Management%20for%20Bimbo/runs/n3con9de' target=\"_blank\">https://wandb.ai/danbecker/Dynamic%20Inventory%20Management%20for%20Bimbo/runs/n3con9de</a>"
      ],
      "text/plain": [
       "<IPython.core.display.HTML object>"
      ]
     },
     "metadata": {},
     "output_type": "display_data"
    },
    {
     "data": {
      "text/html": [
       "Waiting for W&B process to finish... <strong style=\"color:green\">(success).</strong>"
      ],
      "text/plain": [
       "<IPython.core.display.HTML object>"
      ]
     },
     "metadata": {},
     "output_type": "display_data"
    },
    {
     "data": {
      "text/html": [
       " View run <strong style=\"color:#cdcd00\">vital-sweep-6</strong> at: <a href='https://wandb.ai/danbecker/Dynamic%20Inventory%20Management%20for%20Bimbo/runs/n3con9de' target=\"_blank\">https://wandb.ai/danbecker/Dynamic%20Inventory%20Management%20for%20Bimbo/runs/n3con9de</a><br/>Synced 5 W&B file(s), 0 media file(s), 0 artifact file(s) and 0 other file(s)"
      ],
      "text/plain": [
       "<IPython.core.display.HTML object>"
      ]
     },
     "metadata": {},
     "output_type": "display_data"
    },
    {
     "name": "stderr",
     "output_type": "stream",
     "text": [
      "\u001b[34m\u001b[1mwandb\u001b[0m: Agent Starting Run: 69k34czr with config:\n",
      "\u001b[34m\u001b[1mwandb\u001b[0m: \tconstant: 2.5506721356059545\n",
      "\u001b[34m\u001b[1mwandb\u001b[0m: \told_stock_mult: -1.2809628783929714\n",
      "\u001b[34m\u001b[1mwandb\u001b[0m: \tpredicted_demand_mult: 1.4998643162490708\n",
      "\u001b[34m\u001b[1mwandb\u001b[0m: \u001b[33mWARNING\u001b[0m WANDB_NOTEBOOK_NAME should be a path to a notebook file, couldn't find dynamic_decision_opt.ipynb.\n",
      "\u001b[34m\u001b[1mwandb\u001b[0m: \u001b[33mWARNING\u001b[0m Ignored wandb.init() arg project when running a sweep.\n"
     ]
    },
    {
     "data": {
      "text/html": [
       "Syncing run <strong><a href='https://wandb.ai/danbecker/Dynamic%20Inventory%20Management%20for%20Bimbo/runs/69k34czr' target=\"_blank\">olive-sweep-7</a></strong> to <a href='https://wandb.ai/danbecker/Dynamic%20Inventory%20Management%20for%20Bimbo' target=\"_blank\">Weights & Biases</a> (<a href='https://wandb.me/run' target=\"_blank\">docs</a>)<br/>Sweep page: <a href='https://wandb.ai/danbecker/Dynamic%20Inventory%20Management%20for%20Bimbo/sweeps/lbluda5b' target=\"_blank\">https://wandb.ai/danbecker/Dynamic%20Inventory%20Management%20for%20Bimbo/sweeps/lbluda5b</a>"
      ],
      "text/plain": [
       "<IPython.core.display.HTML object>"
      ]
     },
     "metadata": {},
     "output_type": "display_data"
    },
    {
     "data": {
      "text/html": [
       " View run at <a href='https://wandb.ai/danbecker/Dynamic%20Inventory%20Management%20for%20Bimbo/runs/69k34czr' target=\"_blank\">https://wandb.ai/danbecker/Dynamic%20Inventory%20Management%20for%20Bimbo/runs/69k34czr</a>"
      ],
      "text/plain": [
       "<IPython.core.display.HTML object>"
      ]
     },
     "metadata": {},
     "output_type": "display_data"
    },
    {
     "data": {
      "text/html": [
       "Waiting for W&B process to finish... <strong style=\"color:green\">(success).</strong>"
      ],
      "text/plain": [
       "<IPython.core.display.HTML object>"
      ]
     },
     "metadata": {},
     "output_type": "display_data"
    },
    {
     "data": {
      "text/html": [
       " View run <strong style=\"color:#cdcd00\">olive-sweep-7</strong> at: <a href='https://wandb.ai/danbecker/Dynamic%20Inventory%20Management%20for%20Bimbo/runs/69k34czr' target=\"_blank\">https://wandb.ai/danbecker/Dynamic%20Inventory%20Management%20for%20Bimbo/runs/69k34czr</a><br/>Synced 5 W&B file(s), 0 media file(s), 0 artifact file(s) and 0 other file(s)"
      ],
      "text/plain": [
       "<IPython.core.display.HTML object>"
      ]
     },
     "metadata": {},
     "output_type": "display_data"
    },
    {
     "name": "stderr",
     "output_type": "stream",
     "text": [
      "\u001b[34m\u001b[1mwandb\u001b[0m: Sweep Agent: Waiting for job.\n",
      "\u001b[34m\u001b[1mwandb\u001b[0m: Job received.\n",
      "\u001b[34m\u001b[1mwandb\u001b[0m: Agent Starting Run: ovftnwi7 with config:\n",
      "\u001b[34m\u001b[1mwandb\u001b[0m: \tconstant: 3.664551755213598\n",
      "\u001b[34m\u001b[1mwandb\u001b[0m: \told_stock_mult: -1.013264763024808\n",
      "\u001b[34m\u001b[1mwandb\u001b[0m: \tpredicted_demand_mult: 1.4844988140072837\n",
      "\u001b[34m\u001b[1mwandb\u001b[0m: \u001b[33mWARNING\u001b[0m WANDB_NOTEBOOK_NAME should be a path to a notebook file, couldn't find dynamic_decision_opt.ipynb.\n",
      "\u001b[34m\u001b[1mwandb\u001b[0m: \u001b[33mWARNING\u001b[0m Ignored wandb.init() arg project when running a sweep.\n"
     ]
    },
    {
     "data": {
      "text/html": [
       "Syncing run <strong><a href='https://wandb.ai/danbecker/Dynamic%20Inventory%20Management%20for%20Bimbo/runs/ovftnwi7' target=\"_blank\">wobbly-sweep-8</a></strong> to <a href='https://wandb.ai/danbecker/Dynamic%20Inventory%20Management%20for%20Bimbo' target=\"_blank\">Weights & Biases</a> (<a href='https://wandb.me/run' target=\"_blank\">docs</a>)<br/>Sweep page: <a href='https://wandb.ai/danbecker/Dynamic%20Inventory%20Management%20for%20Bimbo/sweeps/lbluda5b' target=\"_blank\">https://wandb.ai/danbecker/Dynamic%20Inventory%20Management%20for%20Bimbo/sweeps/lbluda5b</a>"
      ],
      "text/plain": [
       "<IPython.core.display.HTML object>"
      ]
     },
     "metadata": {},
     "output_type": "display_data"
    },
    {
     "data": {
      "text/html": [
       " View run at <a href='https://wandb.ai/danbecker/Dynamic%20Inventory%20Management%20for%20Bimbo/runs/ovftnwi7' target=\"_blank\">https://wandb.ai/danbecker/Dynamic%20Inventory%20Management%20for%20Bimbo/runs/ovftnwi7</a>"
      ],
      "text/plain": [
       "<IPython.core.display.HTML object>"
      ]
     },
     "metadata": {},
     "output_type": "display_data"
    },
    {
     "data": {
      "text/html": [
       "Waiting for W&B process to finish... <strong style=\"color:green\">(success).</strong>"
      ],
      "text/plain": [
       "<IPython.core.display.HTML object>"
      ]
     },
     "metadata": {},
     "output_type": "display_data"
    },
    {
     "data": {
      "text/html": [
       " View run <strong style=\"color:#cdcd00\">wobbly-sweep-8</strong> at: <a href='https://wandb.ai/danbecker/Dynamic%20Inventory%20Management%20for%20Bimbo/runs/ovftnwi7' target=\"_blank\">https://wandb.ai/danbecker/Dynamic%20Inventory%20Management%20for%20Bimbo/runs/ovftnwi7</a><br/>Synced 5 W&B file(s), 0 media file(s), 0 artifact file(s) and 0 other file(s)"
      ],
      "text/plain": [
       "<IPython.core.display.HTML object>"
      ]
     },
     "metadata": {},
     "output_type": "display_data"
    },
    {
     "name": "stderr",
     "output_type": "stream",
     "text": [
      "\u001b[34m\u001b[1mwandb\u001b[0m: Agent Starting Run: irzs5p7k with config:\n",
      "\u001b[34m\u001b[1mwandb\u001b[0m: \tconstant: 0.3577718223708737\n",
      "\u001b[34m\u001b[1mwandb\u001b[0m: \told_stock_mult: -0.03611539873020009\n",
      "\u001b[34m\u001b[1mwandb\u001b[0m: \tpredicted_demand_mult: 1.499498451662968\n",
      "\u001b[34m\u001b[1mwandb\u001b[0m: \u001b[33mWARNING\u001b[0m WANDB_NOTEBOOK_NAME should be a path to a notebook file, couldn't find dynamic_decision_opt.ipynb.\n",
      "\u001b[34m\u001b[1mwandb\u001b[0m: \u001b[33mWARNING\u001b[0m Ignored wandb.init() arg project when running a sweep.\n"
     ]
    },
    {
     "data": {
      "text/html": [
       "Syncing run <strong><a href='https://wandb.ai/danbecker/Dynamic%20Inventory%20Management%20for%20Bimbo/runs/irzs5p7k' target=\"_blank\">frosty-sweep-9</a></strong> to <a href='https://wandb.ai/danbecker/Dynamic%20Inventory%20Management%20for%20Bimbo' target=\"_blank\">Weights & Biases</a> (<a href='https://wandb.me/run' target=\"_blank\">docs</a>)<br/>Sweep page: <a href='https://wandb.ai/danbecker/Dynamic%20Inventory%20Management%20for%20Bimbo/sweeps/lbluda5b' target=\"_blank\">https://wandb.ai/danbecker/Dynamic%20Inventory%20Management%20for%20Bimbo/sweeps/lbluda5b</a>"
      ],
      "text/plain": [
       "<IPython.core.display.HTML object>"
      ]
     },
     "metadata": {},
     "output_type": "display_data"
    },
    {
     "data": {
      "text/html": [
       " View run at <a href='https://wandb.ai/danbecker/Dynamic%20Inventory%20Management%20for%20Bimbo/runs/irzs5p7k' target=\"_blank\">https://wandb.ai/danbecker/Dynamic%20Inventory%20Management%20for%20Bimbo/runs/irzs5p7k</a>"
      ],
      "text/plain": [
       "<IPython.core.display.HTML object>"
      ]
     },
     "metadata": {},
     "output_type": "display_data"
    },
    {
     "data": {
      "text/html": [
       "Waiting for W&B process to finish... <strong style=\"color:green\">(success).</strong>"
      ],
      "text/plain": [
       "<IPython.core.display.HTML object>"
      ]
     },
     "metadata": {},
     "output_type": "display_data"
    },
    {
     "data": {
      "text/html": [
       " View run <strong style=\"color:#cdcd00\">frosty-sweep-9</strong> at: <a href='https://wandb.ai/danbecker/Dynamic%20Inventory%20Management%20for%20Bimbo/runs/irzs5p7k' target=\"_blank\">https://wandb.ai/danbecker/Dynamic%20Inventory%20Management%20for%20Bimbo/runs/irzs5p7k</a><br/>Synced 5 W&B file(s), 0 media file(s), 0 artifact file(s) and 0 other file(s)"
      ],
      "text/plain": [
       "<IPython.core.display.HTML object>"
      ]
     },
     "metadata": {},
     "output_type": "display_data"
    },
    {
     "name": "stderr",
     "output_type": "stream",
     "text": [
      "\u001b[34m\u001b[1mwandb\u001b[0m: Agent Starting Run: 3x5atj9x with config:\n",
      "\u001b[34m\u001b[1mwandb\u001b[0m: \tconstant: 3.971049127455397\n",
      "\u001b[34m\u001b[1mwandb\u001b[0m: \told_stock_mult: -1.4576090624105569\n",
      "\u001b[34m\u001b[1mwandb\u001b[0m: \tpredicted_demand_mult: 1.499521329436886\n",
      "\u001b[34m\u001b[1mwandb\u001b[0m: \u001b[33mWARNING\u001b[0m WANDB_NOTEBOOK_NAME should be a path to a notebook file, couldn't find dynamic_decision_opt.ipynb.\n",
      "\u001b[34m\u001b[1mwandb\u001b[0m: \u001b[33mWARNING\u001b[0m Ignored wandb.init() arg project when running a sweep.\n"
     ]
    },
    {
     "data": {
      "text/html": [
       "Syncing run <strong><a href='https://wandb.ai/danbecker/Dynamic%20Inventory%20Management%20for%20Bimbo/runs/3x5atj9x' target=\"_blank\">genial-sweep-10</a></strong> to <a href='https://wandb.ai/danbecker/Dynamic%20Inventory%20Management%20for%20Bimbo' target=\"_blank\">Weights & Biases</a> (<a href='https://wandb.me/run' target=\"_blank\">docs</a>)<br/>Sweep page: <a href='https://wandb.ai/danbecker/Dynamic%20Inventory%20Management%20for%20Bimbo/sweeps/lbluda5b' target=\"_blank\">https://wandb.ai/danbecker/Dynamic%20Inventory%20Management%20for%20Bimbo/sweeps/lbluda5b</a>"
      ],
      "text/plain": [
       "<IPython.core.display.HTML object>"
      ]
     },
     "metadata": {},
     "output_type": "display_data"
    },
    {
     "data": {
      "text/html": [
       " View run at <a href='https://wandb.ai/danbecker/Dynamic%20Inventory%20Management%20for%20Bimbo/runs/3x5atj9x' target=\"_blank\">https://wandb.ai/danbecker/Dynamic%20Inventory%20Management%20for%20Bimbo/runs/3x5atj9x</a>"
      ],
      "text/plain": [
       "<IPython.core.display.HTML object>"
      ]
     },
     "metadata": {},
     "output_type": "display_data"
    },
    {
     "data": {
      "text/html": [
       "Waiting for W&B process to finish... <strong style=\"color:green\">(success).</strong>"
      ],
      "text/plain": [
       "<IPython.core.display.HTML object>"
      ]
     },
     "metadata": {},
     "output_type": "display_data"
    },
    {
     "data": {
      "text/html": [
       " View run <strong style=\"color:#cdcd00\">genial-sweep-10</strong> at: <a href='https://wandb.ai/danbecker/Dynamic%20Inventory%20Management%20for%20Bimbo/runs/3x5atj9x' target=\"_blank\">https://wandb.ai/danbecker/Dynamic%20Inventory%20Management%20for%20Bimbo/runs/3x5atj9x</a><br/>Synced 5 W&B file(s), 0 media file(s), 0 artifact file(s) and 0 other file(s)"
      ],
      "text/plain": [
       "<IPython.core.display.HTML object>"
      ]
     },
     "metadata": {},
     "output_type": "display_data"
    },
    {
     "name": "stderr",
     "output_type": "stream",
     "text": [
      "\u001b[34m\u001b[1mwandb\u001b[0m: Sweep Agent: Waiting for job.\n",
      "\u001b[34m\u001b[1mwandb\u001b[0m: Job received.\n",
      "\u001b[34m\u001b[1mwandb\u001b[0m: Agent Starting Run: emu9whj9 with config:\n",
      "\u001b[34m\u001b[1mwandb\u001b[0m: \tconstant: 1.474602310827681\n",
      "\u001b[34m\u001b[1mwandb\u001b[0m: \told_stock_mult: -0.6751375874747518\n",
      "\u001b[34m\u001b[1mwandb\u001b[0m: \tpredicted_demand_mult: 1.4979918195889834\n",
      "\u001b[34m\u001b[1mwandb\u001b[0m: \u001b[33mWARNING\u001b[0m WANDB_NOTEBOOK_NAME should be a path to a notebook file, couldn't find dynamic_decision_opt.ipynb.\n",
      "\u001b[34m\u001b[1mwandb\u001b[0m: \u001b[33mWARNING\u001b[0m Ignored wandb.init() arg project when running a sweep.\n"
     ]
    },
    {
     "data": {
      "text/html": [
       "Syncing run <strong><a href='https://wandb.ai/danbecker/Dynamic%20Inventory%20Management%20for%20Bimbo/runs/emu9whj9' target=\"_blank\">serene-sweep-11</a></strong> to <a href='https://wandb.ai/danbecker/Dynamic%20Inventory%20Management%20for%20Bimbo' target=\"_blank\">Weights & Biases</a> (<a href='https://wandb.me/run' target=\"_blank\">docs</a>)<br/>Sweep page: <a href='https://wandb.ai/danbecker/Dynamic%20Inventory%20Management%20for%20Bimbo/sweeps/lbluda5b' target=\"_blank\">https://wandb.ai/danbecker/Dynamic%20Inventory%20Management%20for%20Bimbo/sweeps/lbluda5b</a>"
      ],
      "text/plain": [
       "<IPython.core.display.HTML object>"
      ]
     },
     "metadata": {},
     "output_type": "display_data"
    },
    {
     "data": {
      "text/html": [
       " View run at <a href='https://wandb.ai/danbecker/Dynamic%20Inventory%20Management%20for%20Bimbo/runs/emu9whj9' target=\"_blank\">https://wandb.ai/danbecker/Dynamic%20Inventory%20Management%20for%20Bimbo/runs/emu9whj9</a>"
      ],
      "text/plain": [
       "<IPython.core.display.HTML object>"
      ]
     },
     "metadata": {},
     "output_type": "display_data"
    },
    {
     "data": {
      "text/html": [
       "Waiting for W&B process to finish... <strong style=\"color:green\">(success).</strong>"
      ],
      "text/plain": [
       "<IPython.core.display.HTML object>"
      ]
     },
     "metadata": {},
     "output_type": "display_data"
    },
    {
     "data": {
      "text/html": [
       " View run <strong style=\"color:#cdcd00\">serene-sweep-11</strong> at: <a href='https://wandb.ai/danbecker/Dynamic%20Inventory%20Management%20for%20Bimbo/runs/emu9whj9' target=\"_blank\">https://wandb.ai/danbecker/Dynamic%20Inventory%20Management%20for%20Bimbo/runs/emu9whj9</a><br/>Synced 5 W&B file(s), 0 media file(s), 0 artifact file(s) and 0 other file(s)"
      ],
      "text/plain": [
       "<IPython.core.display.HTML object>"
      ]
     },
     "metadata": {},
     "output_type": "display_data"
    },
    {
     "name": "stderr",
     "output_type": "stream",
     "text": [
      "\u001b[34m\u001b[1mwandb\u001b[0m: Agent Starting Run: bg3ms31a with config:\n",
      "\u001b[34m\u001b[1mwandb\u001b[0m: \tconstant: 1.1486629448506385\n",
      "\u001b[34m\u001b[1mwandb\u001b[0m: \told_stock_mult: -1.301327597870705\n",
      "\u001b[34m\u001b[1mwandb\u001b[0m: \tpredicted_demand_mult: 1.487663107662227\n",
      "\u001b[34m\u001b[1mwandb\u001b[0m: \u001b[33mWARNING\u001b[0m WANDB_NOTEBOOK_NAME should be a path to a notebook file, couldn't find dynamic_decision_opt.ipynb.\n",
      "\u001b[34m\u001b[1mwandb\u001b[0m: \u001b[33mWARNING\u001b[0m Ignored wandb.init() arg project when running a sweep.\n"
     ]
    },
    {
     "data": {
      "text/html": [
       "Syncing run <strong><a href='https://wandb.ai/danbecker/Dynamic%20Inventory%20Management%20for%20Bimbo/runs/bg3ms31a' target=\"_blank\">kind-sweep-12</a></strong> to <a href='https://wandb.ai/danbecker/Dynamic%20Inventory%20Management%20for%20Bimbo' target=\"_blank\">Weights & Biases</a> (<a href='https://wandb.me/run' target=\"_blank\">docs</a>)<br/>Sweep page: <a href='https://wandb.ai/danbecker/Dynamic%20Inventory%20Management%20for%20Bimbo/sweeps/lbluda5b' target=\"_blank\">https://wandb.ai/danbecker/Dynamic%20Inventory%20Management%20for%20Bimbo/sweeps/lbluda5b</a>"
      ],
      "text/plain": [
       "<IPython.core.display.HTML object>"
      ]
     },
     "metadata": {},
     "output_type": "display_data"
    },
    {
     "data": {
      "text/html": [
       " View run at <a href='https://wandb.ai/danbecker/Dynamic%20Inventory%20Management%20for%20Bimbo/runs/bg3ms31a' target=\"_blank\">https://wandb.ai/danbecker/Dynamic%20Inventory%20Management%20for%20Bimbo/runs/bg3ms31a</a>"
      ],
      "text/plain": [
       "<IPython.core.display.HTML object>"
      ]
     },
     "metadata": {},
     "output_type": "display_data"
    },
    {
     "data": {
      "text/html": [
       "Waiting for W&B process to finish... <strong style=\"color:green\">(success).</strong>"
      ],
      "text/plain": [
       "<IPython.core.display.HTML object>"
      ]
     },
     "metadata": {},
     "output_type": "display_data"
    },
    {
     "data": {
      "text/html": [
       " View run <strong style=\"color:#cdcd00\">kind-sweep-12</strong> at: <a href='https://wandb.ai/danbecker/Dynamic%20Inventory%20Management%20for%20Bimbo/runs/bg3ms31a' target=\"_blank\">https://wandb.ai/danbecker/Dynamic%20Inventory%20Management%20for%20Bimbo/runs/bg3ms31a</a><br/>Synced 5 W&B file(s), 0 media file(s), 0 artifact file(s) and 0 other file(s)"
      ],
      "text/plain": [
       "<IPython.core.display.HTML object>"
      ]
     },
     "metadata": {},
     "output_type": "display_data"
    },
    {
     "name": "stderr",
     "output_type": "stream",
     "text": [
      "\u001b[34m\u001b[1mwandb\u001b[0m: Agent Starting Run: sh6xpzi1 with config:\n",
      "\u001b[34m\u001b[1mwandb\u001b[0m: \tconstant: 0.6851356341154979\n",
      "\u001b[34m\u001b[1mwandb\u001b[0m: \told_stock_mult: -1.4769921119921308\n",
      "\u001b[34m\u001b[1mwandb\u001b[0m: \tpredicted_demand_mult: 1.4933199948239182\n",
      "\u001b[34m\u001b[1mwandb\u001b[0m: \u001b[33mWARNING\u001b[0m WANDB_NOTEBOOK_NAME should be a path to a notebook file, couldn't find dynamic_decision_opt.ipynb.\n",
      "\u001b[34m\u001b[1mwandb\u001b[0m: \u001b[33mWARNING\u001b[0m Ignored wandb.init() arg project when running a sweep.\n"
     ]
    },
    {
     "data": {
      "text/html": [
       "Syncing run <strong><a href='https://wandb.ai/danbecker/Dynamic%20Inventory%20Management%20for%20Bimbo/runs/sh6xpzi1' target=\"_blank\">misunderstood-sweep-13</a></strong> to <a href='https://wandb.ai/danbecker/Dynamic%20Inventory%20Management%20for%20Bimbo' target=\"_blank\">Weights & Biases</a> (<a href='https://wandb.me/run' target=\"_blank\">docs</a>)<br/>Sweep page: <a href='https://wandb.ai/danbecker/Dynamic%20Inventory%20Management%20for%20Bimbo/sweeps/lbluda5b' target=\"_blank\">https://wandb.ai/danbecker/Dynamic%20Inventory%20Management%20for%20Bimbo/sweeps/lbluda5b</a>"
      ],
      "text/plain": [
       "<IPython.core.display.HTML object>"
      ]
     },
     "metadata": {},
     "output_type": "display_data"
    },
    {
     "data": {
      "text/html": [
       " View run at <a href='https://wandb.ai/danbecker/Dynamic%20Inventory%20Management%20for%20Bimbo/runs/sh6xpzi1' target=\"_blank\">https://wandb.ai/danbecker/Dynamic%20Inventory%20Management%20for%20Bimbo/runs/sh6xpzi1</a>"
      ],
      "text/plain": [
       "<IPython.core.display.HTML object>"
      ]
     },
     "metadata": {},
     "output_type": "display_data"
    },
    {
     "data": {
      "text/html": [
       "Waiting for W&B process to finish... <strong style=\"color:green\">(success).</strong>"
      ],
      "text/plain": [
       "<IPython.core.display.HTML object>"
      ]
     },
     "metadata": {},
     "output_type": "display_data"
    },
    {
     "data": {
      "text/html": [
       " View run <strong style=\"color:#cdcd00\">misunderstood-sweep-13</strong> at: <a href='https://wandb.ai/danbecker/Dynamic%20Inventory%20Management%20for%20Bimbo/runs/sh6xpzi1' target=\"_blank\">https://wandb.ai/danbecker/Dynamic%20Inventory%20Management%20for%20Bimbo/runs/sh6xpzi1</a><br/>Synced 5 W&B file(s), 0 media file(s), 0 artifact file(s) and 0 other file(s)"
      ],
      "text/plain": [
       "<IPython.core.display.HTML object>"
      ]
     },
     "metadata": {},
     "output_type": "display_data"
    },
    {
     "name": "stderr",
     "output_type": "stream",
     "text": [
      "\u001b[34m\u001b[1mwandb\u001b[0m: Agent Starting Run: 6fm5kmsr with config:\n",
      "\u001b[34m\u001b[1mwandb\u001b[0m: \tconstant: 1.696598889804502\n",
      "\u001b[34m\u001b[1mwandb\u001b[0m: \told_stock_mult: -1.4869599911553195\n",
      "\u001b[34m\u001b[1mwandb\u001b[0m: \tpredicted_demand_mult: 1.4575307305872427\n",
      "\u001b[34m\u001b[1mwandb\u001b[0m: \u001b[33mWARNING\u001b[0m WANDB_NOTEBOOK_NAME should be a path to a notebook file, couldn't find dynamic_decision_opt.ipynb.\n",
      "\u001b[34m\u001b[1mwandb\u001b[0m: \u001b[33mWARNING\u001b[0m Ignored wandb.init() arg project when running a sweep.\n"
     ]
    },
    {
     "data": {
      "text/html": [
       "Syncing run <strong><a href='https://wandb.ai/danbecker/Dynamic%20Inventory%20Management%20for%20Bimbo/runs/6fm5kmsr' target=\"_blank\">dashing-sweep-14</a></strong> to <a href='https://wandb.ai/danbecker/Dynamic%20Inventory%20Management%20for%20Bimbo' target=\"_blank\">Weights & Biases</a> (<a href='https://wandb.me/run' target=\"_blank\">docs</a>)<br/>Sweep page: <a href='https://wandb.ai/danbecker/Dynamic%20Inventory%20Management%20for%20Bimbo/sweeps/lbluda5b' target=\"_blank\">https://wandb.ai/danbecker/Dynamic%20Inventory%20Management%20for%20Bimbo/sweeps/lbluda5b</a>"
      ],
      "text/plain": [
       "<IPython.core.display.HTML object>"
      ]
     },
     "metadata": {},
     "output_type": "display_data"
    },
    {
     "data": {
      "text/html": [
       " View run at <a href='https://wandb.ai/danbecker/Dynamic%20Inventory%20Management%20for%20Bimbo/runs/6fm5kmsr' target=\"_blank\">https://wandb.ai/danbecker/Dynamic%20Inventory%20Management%20for%20Bimbo/runs/6fm5kmsr</a>"
      ],
      "text/plain": [
       "<IPython.core.display.HTML object>"
      ]
     },
     "metadata": {},
     "output_type": "display_data"
    },
    {
     "data": {
      "text/html": [
       "Waiting for W&B process to finish... <strong style=\"color:green\">(success).</strong>"
      ],
      "text/plain": [
       "<IPython.core.display.HTML object>"
      ]
     },
     "metadata": {},
     "output_type": "display_data"
    },
    {
     "data": {
      "text/html": [
       " View run <strong style=\"color:#cdcd00\">dashing-sweep-14</strong> at: <a href='https://wandb.ai/danbecker/Dynamic%20Inventory%20Management%20for%20Bimbo/runs/6fm5kmsr' target=\"_blank\">https://wandb.ai/danbecker/Dynamic%20Inventory%20Management%20for%20Bimbo/runs/6fm5kmsr</a><br/>Synced 5 W&B file(s), 0 media file(s), 0 artifact file(s) and 0 other file(s)"
      ],
      "text/plain": [
       "<IPython.core.display.HTML object>"
      ]
     },
     "metadata": {},
     "output_type": "display_data"
    },
    {
     "name": "stderr",
     "output_type": "stream",
     "text": [
      "\u001b[34m\u001b[1mwandb\u001b[0m: Agent Starting Run: 3xbbv9c1 with config:\n",
      "\u001b[34m\u001b[1mwandb\u001b[0m: \tconstant: 1.8001072364047466\n",
      "\u001b[34m\u001b[1mwandb\u001b[0m: \told_stock_mult: -1.3325209883714997\n",
      "\u001b[34m\u001b[1mwandb\u001b[0m: \tpredicted_demand_mult: 1.4855550666446815\n",
      "\u001b[34m\u001b[1mwandb\u001b[0m: \u001b[33mWARNING\u001b[0m WANDB_NOTEBOOK_NAME should be a path to a notebook file, couldn't find dynamic_decision_opt.ipynb.\n",
      "\u001b[34m\u001b[1mwandb\u001b[0m: \u001b[33mWARNING\u001b[0m Ignored wandb.init() arg project when running a sweep.\n"
     ]
    },
    {
     "data": {
      "text/html": [
       "Syncing run <strong><a href='https://wandb.ai/danbecker/Dynamic%20Inventory%20Management%20for%20Bimbo/runs/3xbbv9c1' target=\"_blank\">resilient-sweep-15</a></strong> to <a href='https://wandb.ai/danbecker/Dynamic%20Inventory%20Management%20for%20Bimbo' target=\"_blank\">Weights & Biases</a> (<a href='https://wandb.me/run' target=\"_blank\">docs</a>)<br/>Sweep page: <a href='https://wandb.ai/danbecker/Dynamic%20Inventory%20Management%20for%20Bimbo/sweeps/lbluda5b' target=\"_blank\">https://wandb.ai/danbecker/Dynamic%20Inventory%20Management%20for%20Bimbo/sweeps/lbluda5b</a>"
      ],
      "text/plain": [
       "<IPython.core.display.HTML object>"
      ]
     },
     "metadata": {},
     "output_type": "display_data"
    },
    {
     "data": {
      "text/html": [
       " View run at <a href='https://wandb.ai/danbecker/Dynamic%20Inventory%20Management%20for%20Bimbo/runs/3xbbv9c1' target=\"_blank\">https://wandb.ai/danbecker/Dynamic%20Inventory%20Management%20for%20Bimbo/runs/3xbbv9c1</a>"
      ],
      "text/plain": [
       "<IPython.core.display.HTML object>"
      ]
     },
     "metadata": {},
     "output_type": "display_data"
    },
    {
     "data": {
      "text/html": [
       "Waiting for W&B process to finish... <strong style=\"color:green\">(success).</strong>"
      ],
      "text/plain": [
       "<IPython.core.display.HTML object>"
      ]
     },
     "metadata": {},
     "output_type": "display_data"
    },
    {
     "data": {
      "text/html": [
       " View run <strong style=\"color:#cdcd00\">resilient-sweep-15</strong> at: <a href='https://wandb.ai/danbecker/Dynamic%20Inventory%20Management%20for%20Bimbo/runs/3xbbv9c1' target=\"_blank\">https://wandb.ai/danbecker/Dynamic%20Inventory%20Management%20for%20Bimbo/runs/3xbbv9c1</a><br/>Synced 5 W&B file(s), 0 media file(s), 0 artifact file(s) and 0 other file(s)"
      ],
      "text/plain": [
       "<IPython.core.display.HTML object>"
      ]
     },
     "metadata": {},
     "output_type": "display_data"
    },
    {
     "name": "stderr",
     "output_type": "stream",
     "text": [
      "\u001b[34m\u001b[1mwandb\u001b[0m: Agent Starting Run: tif8dcbl with config:\n",
      "\u001b[34m\u001b[1mwandb\u001b[0m: \tconstant: 0.04985098585556125\n",
      "\u001b[34m\u001b[1mwandb\u001b[0m: \told_stock_mult: -1.2936424954733878\n",
      "\u001b[34m\u001b[1mwandb\u001b[0m: \tpredicted_demand_mult: 1.4974187866444155\n",
      "\u001b[34m\u001b[1mwandb\u001b[0m: \u001b[33mWARNING\u001b[0m WANDB_NOTEBOOK_NAME should be a path to a notebook file, couldn't find dynamic_decision_opt.ipynb.\n",
      "\u001b[34m\u001b[1mwandb\u001b[0m: \u001b[33mWARNING\u001b[0m Ignored wandb.init() arg project when running a sweep.\n"
     ]
    },
    {
     "data": {
      "text/html": [
       "Syncing run <strong><a href='https://wandb.ai/danbecker/Dynamic%20Inventory%20Management%20for%20Bimbo/runs/tif8dcbl' target=\"_blank\">firm-sweep-16</a></strong> to <a href='https://wandb.ai/danbecker/Dynamic%20Inventory%20Management%20for%20Bimbo' target=\"_blank\">Weights & Biases</a> (<a href='https://wandb.me/run' target=\"_blank\">docs</a>)<br/>Sweep page: <a href='https://wandb.ai/danbecker/Dynamic%20Inventory%20Management%20for%20Bimbo/sweeps/lbluda5b' target=\"_blank\">https://wandb.ai/danbecker/Dynamic%20Inventory%20Management%20for%20Bimbo/sweeps/lbluda5b</a>"
      ],
      "text/plain": [
       "<IPython.core.display.HTML object>"
      ]
     },
     "metadata": {},
     "output_type": "display_data"
    },
    {
     "data": {
      "text/html": [
       " View run at <a href='https://wandb.ai/danbecker/Dynamic%20Inventory%20Management%20for%20Bimbo/runs/tif8dcbl' target=\"_blank\">https://wandb.ai/danbecker/Dynamic%20Inventory%20Management%20for%20Bimbo/runs/tif8dcbl</a>"
      ],
      "text/plain": [
       "<IPython.core.display.HTML object>"
      ]
     },
     "metadata": {},
     "output_type": "display_data"
    },
    {
     "data": {
      "text/html": [
       "Waiting for W&B process to finish... <strong style=\"color:green\">(success).</strong>"
      ],
      "text/plain": [
       "<IPython.core.display.HTML object>"
      ]
     },
     "metadata": {},
     "output_type": "display_data"
    },
    {
     "data": {
      "text/html": [
       " View run <strong style=\"color:#cdcd00\">firm-sweep-16</strong> at: <a href='https://wandb.ai/danbecker/Dynamic%20Inventory%20Management%20for%20Bimbo/runs/tif8dcbl' target=\"_blank\">https://wandb.ai/danbecker/Dynamic%20Inventory%20Management%20for%20Bimbo/runs/tif8dcbl</a><br/>Synced 5 W&B file(s), 0 media file(s), 0 artifact file(s) and 0 other file(s)"
      ],
      "text/plain": [
       "<IPython.core.display.HTML object>"
      ]
     },
     "metadata": {},
     "output_type": "display_data"
    },
    {
     "name": "stderr",
     "output_type": "stream",
     "text": [
      "\u001b[34m\u001b[1mwandb\u001b[0m: Agent Starting Run: od8kt876 with config:\n",
      "\u001b[34m\u001b[1mwandb\u001b[0m: \tconstant: 4.942795004512041\n",
      "\u001b[34m\u001b[1mwandb\u001b[0m: \told_stock_mult: -1.4158397501463005\n",
      "\u001b[34m\u001b[1mwandb\u001b[0m: \tpredicted_demand_mult: 1.4026971639959367\n",
      "\u001b[34m\u001b[1mwandb\u001b[0m: \u001b[33mWARNING\u001b[0m WANDB_NOTEBOOK_NAME should be a path to a notebook file, couldn't find dynamic_decision_opt.ipynb.\n",
      "\u001b[34m\u001b[1mwandb\u001b[0m: \u001b[33mWARNING\u001b[0m Ignored wandb.init() arg project when running a sweep.\n"
     ]
    },
    {
     "data": {
      "text/html": [
       "Syncing run <strong><a href='https://wandb.ai/danbecker/Dynamic%20Inventory%20Management%20for%20Bimbo/runs/od8kt876' target=\"_blank\">neat-sweep-17</a></strong> to <a href='https://wandb.ai/danbecker/Dynamic%20Inventory%20Management%20for%20Bimbo' target=\"_blank\">Weights & Biases</a> (<a href='https://wandb.me/run' target=\"_blank\">docs</a>)<br/>Sweep page: <a href='https://wandb.ai/danbecker/Dynamic%20Inventory%20Management%20for%20Bimbo/sweeps/lbluda5b' target=\"_blank\">https://wandb.ai/danbecker/Dynamic%20Inventory%20Management%20for%20Bimbo/sweeps/lbluda5b</a>"
      ],
      "text/plain": [
       "<IPython.core.display.HTML object>"
      ]
     },
     "metadata": {},
     "output_type": "display_data"
    },
    {
     "data": {
      "text/html": [
       " View run at <a href='https://wandb.ai/danbecker/Dynamic%20Inventory%20Management%20for%20Bimbo/runs/od8kt876' target=\"_blank\">https://wandb.ai/danbecker/Dynamic%20Inventory%20Management%20for%20Bimbo/runs/od8kt876</a>"
      ],
      "text/plain": [
       "<IPython.core.display.HTML object>"
      ]
     },
     "metadata": {},
     "output_type": "display_data"
    },
    {
     "data": {
      "text/html": [
       "Waiting for W&B process to finish... <strong style=\"color:green\">(success).</strong>"
      ],
      "text/plain": [
       "<IPython.core.display.HTML object>"
      ]
     },
     "metadata": {},
     "output_type": "display_data"
    },
    {
     "data": {
      "text/html": [
       " View run <strong style=\"color:#cdcd00\">neat-sweep-17</strong> at: <a href='https://wandb.ai/danbecker/Dynamic%20Inventory%20Management%20for%20Bimbo/runs/od8kt876' target=\"_blank\">https://wandb.ai/danbecker/Dynamic%20Inventory%20Management%20for%20Bimbo/runs/od8kt876</a><br/>Synced 5 W&B file(s), 0 media file(s), 0 artifact file(s) and 0 other file(s)"
      ],
      "text/plain": [
       "<IPython.core.display.HTML object>"
      ]
     },
     "metadata": {},
     "output_type": "display_data"
    },
    {
     "name": "stderr",
     "output_type": "stream",
     "text": [
      "\u001b[34m\u001b[1mwandb\u001b[0m: Agent Starting Run: 5h6hcvyu with config:\n",
      "\u001b[34m\u001b[1mwandb\u001b[0m: \tconstant: 0.06236260187204412\n",
      "\u001b[34m\u001b[1mwandb\u001b[0m: \told_stock_mult: -1.0360744257323558\n",
      "\u001b[34m\u001b[1mwandb\u001b[0m: \tpredicted_demand_mult: 1.4784998920641117\n",
      "\u001b[34m\u001b[1mwandb\u001b[0m: \u001b[33mWARNING\u001b[0m WANDB_NOTEBOOK_NAME should be a path to a notebook file, couldn't find dynamic_decision_opt.ipynb.\n",
      "\u001b[34m\u001b[1mwandb\u001b[0m: \u001b[33mWARNING\u001b[0m Ignored wandb.init() arg project when running a sweep.\n"
     ]
    },
    {
     "data": {
      "text/html": [
       "Syncing run <strong><a href='https://wandb.ai/danbecker/Dynamic%20Inventory%20Management%20for%20Bimbo/runs/5h6hcvyu' target=\"_blank\">kind-sweep-18</a></strong> to <a href='https://wandb.ai/danbecker/Dynamic%20Inventory%20Management%20for%20Bimbo' target=\"_blank\">Weights & Biases</a> (<a href='https://wandb.me/run' target=\"_blank\">docs</a>)<br/>Sweep page: <a href='https://wandb.ai/danbecker/Dynamic%20Inventory%20Management%20for%20Bimbo/sweeps/lbluda5b' target=\"_blank\">https://wandb.ai/danbecker/Dynamic%20Inventory%20Management%20for%20Bimbo/sweeps/lbluda5b</a>"
      ],
      "text/plain": [
       "<IPython.core.display.HTML object>"
      ]
     },
     "metadata": {},
     "output_type": "display_data"
    },
    {
     "data": {
      "text/html": [
       " View run at <a href='https://wandb.ai/danbecker/Dynamic%20Inventory%20Management%20for%20Bimbo/runs/5h6hcvyu' target=\"_blank\">https://wandb.ai/danbecker/Dynamic%20Inventory%20Management%20for%20Bimbo/runs/5h6hcvyu</a>"
      ],
      "text/plain": [
       "<IPython.core.display.HTML object>"
      ]
     },
     "metadata": {},
     "output_type": "display_data"
    },
    {
     "data": {
      "text/html": [
       "Waiting for W&B process to finish... <strong style=\"color:green\">(success).</strong>"
      ],
      "text/plain": [
       "<IPython.core.display.HTML object>"
      ]
     },
     "metadata": {},
     "output_type": "display_data"
    },
    {
     "data": {
      "text/html": [
       " View run <strong style=\"color:#cdcd00\">kind-sweep-18</strong> at: <a href='https://wandb.ai/danbecker/Dynamic%20Inventory%20Management%20for%20Bimbo/runs/5h6hcvyu' target=\"_blank\">https://wandb.ai/danbecker/Dynamic%20Inventory%20Management%20for%20Bimbo/runs/5h6hcvyu</a><br/>Synced 5 W&B file(s), 0 media file(s), 0 artifact file(s) and 0 other file(s)"
      ],
      "text/plain": [
       "<IPython.core.display.HTML object>"
      ]
     },
     "metadata": {},
     "output_type": "display_data"
    },
    {
     "name": "stderr",
     "output_type": "stream",
     "text": [
      "\u001b[34m\u001b[1mwandb\u001b[0m: Agent Starting Run: haoakdfc with config:\n",
      "\u001b[34m\u001b[1mwandb\u001b[0m: \tconstant: 4.94249705406472\n",
      "\u001b[34m\u001b[1mwandb\u001b[0m: \told_stock_mult: -1.47909320002831\n",
      "\u001b[34m\u001b[1mwandb\u001b[0m: \tpredicted_demand_mult: 1.4358260656936217\n",
      "\u001b[34m\u001b[1mwandb\u001b[0m: \u001b[33mWARNING\u001b[0m WANDB_NOTEBOOK_NAME should be a path to a notebook file, couldn't find dynamic_decision_opt.ipynb.\n",
      "\u001b[34m\u001b[1mwandb\u001b[0m: \u001b[33mWARNING\u001b[0m Ignored wandb.init() arg project when running a sweep.\n"
     ]
    },
    {
     "data": {
      "text/html": [
       "Syncing run <strong><a href='https://wandb.ai/danbecker/Dynamic%20Inventory%20Management%20for%20Bimbo/runs/haoakdfc' target=\"_blank\">faithful-sweep-19</a></strong> to <a href='https://wandb.ai/danbecker/Dynamic%20Inventory%20Management%20for%20Bimbo' target=\"_blank\">Weights & Biases</a> (<a href='https://wandb.me/run' target=\"_blank\">docs</a>)<br/>Sweep page: <a href='https://wandb.ai/danbecker/Dynamic%20Inventory%20Management%20for%20Bimbo/sweeps/lbluda5b' target=\"_blank\">https://wandb.ai/danbecker/Dynamic%20Inventory%20Management%20for%20Bimbo/sweeps/lbluda5b</a>"
      ],
      "text/plain": [
       "<IPython.core.display.HTML object>"
      ]
     },
     "metadata": {},
     "output_type": "display_data"
    },
    {
     "data": {
      "text/html": [
       " View run at <a href='https://wandb.ai/danbecker/Dynamic%20Inventory%20Management%20for%20Bimbo/runs/haoakdfc' target=\"_blank\">https://wandb.ai/danbecker/Dynamic%20Inventory%20Management%20for%20Bimbo/runs/haoakdfc</a>"
      ],
      "text/plain": [
       "<IPython.core.display.HTML object>"
      ]
     },
     "metadata": {},
     "output_type": "display_data"
    },
    {
     "data": {
      "text/html": [
       "Waiting for W&B process to finish... <strong style=\"color:green\">(success).</strong>"
      ],
      "text/plain": [
       "<IPython.core.display.HTML object>"
      ]
     },
     "metadata": {},
     "output_type": "display_data"
    },
    {
     "data": {
      "text/html": [
       " View run <strong style=\"color:#cdcd00\">faithful-sweep-19</strong> at: <a href='https://wandb.ai/danbecker/Dynamic%20Inventory%20Management%20for%20Bimbo/runs/haoakdfc' target=\"_blank\">https://wandb.ai/danbecker/Dynamic%20Inventory%20Management%20for%20Bimbo/runs/haoakdfc</a><br/>Synced 5 W&B file(s), 0 media file(s), 0 artifact file(s) and 0 other file(s)"
      ],
      "text/plain": [
       "<IPython.core.display.HTML object>"
      ]
     },
     "metadata": {},
     "output_type": "display_data"
    },
    {
     "name": "stderr",
     "output_type": "stream",
     "text": [
      "\u001b[34m\u001b[1mwandb\u001b[0m: Agent Starting Run: fde8sdow with config:\n",
      "\u001b[34m\u001b[1mwandb\u001b[0m: \tconstant: 1.90757922910494\n",
      "\u001b[34m\u001b[1mwandb\u001b[0m: \told_stock_mult: -1.4918831271107054\n",
      "\u001b[34m\u001b[1mwandb\u001b[0m: \tpredicted_demand_mult: 1.47856134668134\n",
      "\u001b[34m\u001b[1mwandb\u001b[0m: \u001b[33mWARNING\u001b[0m WANDB_NOTEBOOK_NAME should be a path to a notebook file, couldn't find dynamic_decision_opt.ipynb.\n",
      "\u001b[34m\u001b[1mwandb\u001b[0m: \u001b[33mWARNING\u001b[0m Ignored wandb.init() arg project when running a sweep.\n"
     ]
    },
    {
     "data": {
      "text/html": [
       "Syncing run <strong><a href='https://wandb.ai/danbecker/Dynamic%20Inventory%20Management%20for%20Bimbo/runs/fde8sdow' target=\"_blank\">dutiful-sweep-20</a></strong> to <a href='https://wandb.ai/danbecker/Dynamic%20Inventory%20Management%20for%20Bimbo' target=\"_blank\">Weights & Biases</a> (<a href='https://wandb.me/run' target=\"_blank\">docs</a>)<br/>Sweep page: <a href='https://wandb.ai/danbecker/Dynamic%20Inventory%20Management%20for%20Bimbo/sweeps/lbluda5b' target=\"_blank\">https://wandb.ai/danbecker/Dynamic%20Inventory%20Management%20for%20Bimbo/sweeps/lbluda5b</a>"
      ],
      "text/plain": [
       "<IPython.core.display.HTML object>"
      ]
     },
     "metadata": {},
     "output_type": "display_data"
    },
    {
     "data": {
      "text/html": [
       " View run at <a href='https://wandb.ai/danbecker/Dynamic%20Inventory%20Management%20for%20Bimbo/runs/fde8sdow' target=\"_blank\">https://wandb.ai/danbecker/Dynamic%20Inventory%20Management%20for%20Bimbo/runs/fde8sdow</a>"
      ],
      "text/plain": [
       "<IPython.core.display.HTML object>"
      ]
     },
     "metadata": {},
     "output_type": "display_data"
    },
    {
     "data": {
      "text/html": [
       "Waiting for W&B process to finish... <strong style=\"color:green\">(success).</strong>"
      ],
      "text/plain": [
       "<IPython.core.display.HTML object>"
      ]
     },
     "metadata": {},
     "output_type": "display_data"
    },
    {
     "data": {
      "text/html": [
       " View run <strong style=\"color:#cdcd00\">dutiful-sweep-20</strong> at: <a href='https://wandb.ai/danbecker/Dynamic%20Inventory%20Management%20for%20Bimbo/runs/fde8sdow' target=\"_blank\">https://wandb.ai/danbecker/Dynamic%20Inventory%20Management%20for%20Bimbo/runs/fde8sdow</a><br/>Synced 5 W&B file(s), 0 media file(s), 0 artifact file(s) and 0 other file(s)"
      ],
      "text/plain": [
       "<IPython.core.display.HTML object>"
      ]
     },
     "metadata": {},
     "output_type": "display_data"
    }
   ],
   "source": [
    "def linear_decision_function_factory(constant, predicted_demand_mult, old_stock_mult):\n",
    "    def decision_function(state):\n",
    "        return constant + predicted_demand_mult * state.predicted_demand + old_stock_mult * state.old_stock\n",
    "    return decision_function\n",
    "\n",
    "def objective(params):\n",
    "    decision_function = linear_decision_function_factory(params.constant, params.predicted_demand_mult, params.old_stock_mult)\n",
    "    outcomes = simulate_multiple_stores_and_products(decision_validation_data, decision_function, tags=[\"agencia_1110\"], log=False)\n",
    "    return objective_function(outcomes)\n",
    "\n",
    "sweep_config = {\n",
    "    'method': 'bayes',\n",
    "    'metric': {\n",
    "        'name': 'objective_function',\n",
    "        'goal': 'maximize'\n",
    "    },\n",
    "    'parameters': {\n",
    "        'constant': {\n",
    "            'distribution': 'uniform',\n",
    "            'min': 0,\n",
    "            'max': 5\n",
    "        },\n",
    "        'predicted_demand_mult': {\n",
    "            'distribution': 'uniform',\n",
    "            'min': 0,\n",
    "            'max': 1.5\n",
    "        },\n",
    "        'old_stock_mult': {\n",
    "            'distribution': 'uniform',\n",
    "            'min': -1.5,\n",
    "            'max': 0,\n",
    "        }\n",
    "    }\n",
    "}\n",
    "\n",
    "def main():\n",
    "    wandb.init(project=project_name)\n",
    "    score = objective(wandb.config)\n",
    "    wandb.log({'objective_function': score})\n",
    "\n",
    "sweep_id = wandb.sweep(sweep_config, project=project_name)\n",
    "wandb.agent(sweep_id, main, count=20)"
   ]
  }
 ],
 "metadata": {
  "kernelspec": {
   "display_name": "wandb",
   "language": "python",
   "name": "python3"
  },
  "language_info": {
   "codemirror_mode": {
    "name": "ipython",
    "version": 3
   },
   "file_extension": ".py",
   "mimetype": "text/x-python",
   "name": "python",
   "nbconvert_exporter": "python",
   "pygments_lexer": "ipython3",
   "version": "3.9.16"
  },
  "orig_nbformat": 4
 },
 "nbformat": 4,
 "nbformat_minor": 2
}
