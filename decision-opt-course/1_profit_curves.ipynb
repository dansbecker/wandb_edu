{
 "cells": [
  {
   "attachments": {},
   "cell_type": "markdown",
   "metadata": {},
   "source": [
    "Data is from [this dataset](https://www.kaggle.com/datasets/blastchar/telco-customer-churn) to predict churn from a telecom company."
   ]
  },
  {
   "attachments": {},
   "cell_type": "markdown",
   "metadata": {},
   "source": [
    "# A Basic Model As A Starting Point\n",
    "\n",
    "Model building isn't our focus, so I won't go into great depth on this. But it gives a model to use"
   ]
  },
  {
   "cell_type": "code",
   "execution_count": 1,
   "metadata": {},
   "outputs": [
    {
     "data": {
      "text/html": [
       "<div>\n",
       "<style scoped>\n",
       "    .dataframe tbody tr th:only-of-type {\n",
       "        vertical-align: middle;\n",
       "    }\n",
       "\n",
       "    .dataframe tbody tr th {\n",
       "        vertical-align: top;\n",
       "    }\n",
       "\n",
       "    .dataframe thead th {\n",
       "        text-align: right;\n",
       "    }\n",
       "</style>\n",
       "<table border=\"1\" class=\"dataframe\">\n",
       "  <thead>\n",
       "    <tr style=\"text-align: right;\">\n",
       "      <th></th>\n",
       "      <th>customerID</th>\n",
       "      <th>gender</th>\n",
       "      <th>SeniorCitizen</th>\n",
       "      <th>Partner</th>\n",
       "      <th>Dependents</th>\n",
       "      <th>tenure</th>\n",
       "      <th>PhoneService</th>\n",
       "      <th>MultipleLines</th>\n",
       "      <th>InternetService</th>\n",
       "      <th>OnlineSecurity</th>\n",
       "      <th>...</th>\n",
       "      <th>DeviceProtection</th>\n",
       "      <th>TechSupport</th>\n",
       "      <th>StreamingTV</th>\n",
       "      <th>StreamingMovies</th>\n",
       "      <th>Contract</th>\n",
       "      <th>PaperlessBilling</th>\n",
       "      <th>PaymentMethod</th>\n",
       "      <th>MonthlyCharges</th>\n",
       "      <th>TotalCharges</th>\n",
       "      <th>Churn</th>\n",
       "    </tr>\n",
       "  </thead>\n",
       "  <tbody>\n",
       "    <tr>\n",
       "      <th>0</th>\n",
       "      <td>7590-VHVEG</td>\n",
       "      <td>Female</td>\n",
       "      <td>0</td>\n",
       "      <td>Yes</td>\n",
       "      <td>No</td>\n",
       "      <td>1</td>\n",
       "      <td>No</td>\n",
       "      <td>No phone service</td>\n",
       "      <td>DSL</td>\n",
       "      <td>No</td>\n",
       "      <td>...</td>\n",
       "      <td>No</td>\n",
       "      <td>No</td>\n",
       "      <td>No</td>\n",
       "      <td>No</td>\n",
       "      <td>Month-to-month</td>\n",
       "      <td>Yes</td>\n",
       "      <td>Electronic check</td>\n",
       "      <td>29.85</td>\n",
       "      <td>29.85</td>\n",
       "      <td>No</td>\n",
       "    </tr>\n",
       "    <tr>\n",
       "      <th>1</th>\n",
       "      <td>5575-GNVDE</td>\n",
       "      <td>Male</td>\n",
       "      <td>0</td>\n",
       "      <td>No</td>\n",
       "      <td>No</td>\n",
       "      <td>34</td>\n",
       "      <td>Yes</td>\n",
       "      <td>No</td>\n",
       "      <td>DSL</td>\n",
       "      <td>Yes</td>\n",
       "      <td>...</td>\n",
       "      <td>Yes</td>\n",
       "      <td>No</td>\n",
       "      <td>No</td>\n",
       "      <td>No</td>\n",
       "      <td>One year</td>\n",
       "      <td>No</td>\n",
       "      <td>Mailed check</td>\n",
       "      <td>56.95</td>\n",
       "      <td>1889.5</td>\n",
       "      <td>No</td>\n",
       "    </tr>\n",
       "    <tr>\n",
       "      <th>2</th>\n",
       "      <td>3668-QPYBK</td>\n",
       "      <td>Male</td>\n",
       "      <td>0</td>\n",
       "      <td>No</td>\n",
       "      <td>No</td>\n",
       "      <td>2</td>\n",
       "      <td>Yes</td>\n",
       "      <td>No</td>\n",
       "      <td>DSL</td>\n",
       "      <td>Yes</td>\n",
       "      <td>...</td>\n",
       "      <td>No</td>\n",
       "      <td>No</td>\n",
       "      <td>No</td>\n",
       "      <td>No</td>\n",
       "      <td>Month-to-month</td>\n",
       "      <td>Yes</td>\n",
       "      <td>Mailed check</td>\n",
       "      <td>53.85</td>\n",
       "      <td>108.15</td>\n",
       "      <td>Yes</td>\n",
       "    </tr>\n",
       "    <tr>\n",
       "      <th>3</th>\n",
       "      <td>7795-CFOCW</td>\n",
       "      <td>Male</td>\n",
       "      <td>0</td>\n",
       "      <td>No</td>\n",
       "      <td>No</td>\n",
       "      <td>45</td>\n",
       "      <td>No</td>\n",
       "      <td>No phone service</td>\n",
       "      <td>DSL</td>\n",
       "      <td>Yes</td>\n",
       "      <td>...</td>\n",
       "      <td>Yes</td>\n",
       "      <td>Yes</td>\n",
       "      <td>No</td>\n",
       "      <td>No</td>\n",
       "      <td>One year</td>\n",
       "      <td>No</td>\n",
       "      <td>Bank transfer (automatic)</td>\n",
       "      <td>42.30</td>\n",
       "      <td>1840.75</td>\n",
       "      <td>No</td>\n",
       "    </tr>\n",
       "    <tr>\n",
       "      <th>4</th>\n",
       "      <td>9237-HQITU</td>\n",
       "      <td>Female</td>\n",
       "      <td>0</td>\n",
       "      <td>No</td>\n",
       "      <td>No</td>\n",
       "      <td>2</td>\n",
       "      <td>Yes</td>\n",
       "      <td>No</td>\n",
       "      <td>Fiber optic</td>\n",
       "      <td>No</td>\n",
       "      <td>...</td>\n",
       "      <td>No</td>\n",
       "      <td>No</td>\n",
       "      <td>No</td>\n",
       "      <td>No</td>\n",
       "      <td>Month-to-month</td>\n",
       "      <td>Yes</td>\n",
       "      <td>Electronic check</td>\n",
       "      <td>70.70</td>\n",
       "      <td>151.65</td>\n",
       "      <td>Yes</td>\n",
       "    </tr>\n",
       "  </tbody>\n",
       "</table>\n",
       "<p>5 rows × 21 columns</p>\n",
       "</div>"
      ],
      "text/plain": [
       "   customerID  gender  SeniorCitizen Partner Dependents  tenure PhoneService  \\\n",
       "0  7590-VHVEG  Female              0     Yes         No       1           No   \n",
       "1  5575-GNVDE    Male              0      No         No      34          Yes   \n",
       "2  3668-QPYBK    Male              0      No         No       2          Yes   \n",
       "3  7795-CFOCW    Male              0      No         No      45           No   \n",
       "4  9237-HQITU  Female              0      No         No       2          Yes   \n",
       "\n",
       "      MultipleLines InternetService OnlineSecurity  ... DeviceProtection  \\\n",
       "0  No phone service             DSL             No  ...               No   \n",
       "1                No             DSL            Yes  ...              Yes   \n",
       "2                No             DSL            Yes  ...               No   \n",
       "3  No phone service             DSL            Yes  ...              Yes   \n",
       "4                No     Fiber optic             No  ...               No   \n",
       "\n",
       "  TechSupport StreamingTV StreamingMovies        Contract PaperlessBilling  \\\n",
       "0          No          No              No  Month-to-month              Yes   \n",
       "1          No          No              No        One year               No   \n",
       "2          No          No              No  Month-to-month              Yes   \n",
       "3         Yes          No              No        One year               No   \n",
       "4          No          No              No  Month-to-month              Yes   \n",
       "\n",
       "               PaymentMethod MonthlyCharges  TotalCharges Churn  \n",
       "0           Electronic check          29.85         29.85    No  \n",
       "1               Mailed check          56.95        1889.5    No  \n",
       "2               Mailed check          53.85        108.15   Yes  \n",
       "3  Bank transfer (automatic)          42.30       1840.75    No  \n",
       "4           Electronic check          70.70        151.65   Yes  \n",
       "\n",
       "[5 rows x 21 columns]"
      ]
     },
     "execution_count": 1,
     "metadata": {},
     "output_type": "execute_result"
    }
   ],
   "source": [
    "import pandas as pd\n",
    "import matplotlib.pyplot as plt\n",
    "import wandb\n",
    "from sklearn.model_selection import train_test_split\n",
    "from sklearn.pipeline import Pipeline\n",
    "from sklearn.compose import ColumnTransformer\n",
    "from sklearn.preprocessing import OneHotEncoder\n",
    "from sklearn.metrics import roc_auc_score, log_loss\n",
    "from sklearn.compose import make_column_selector as selector\n",
    "from wandb.xgboost import WandbCallback\n",
    "from xgboost import XGBClassifier\n",
    "\n",
    "plt.style.use('fivethirtyeight')\n",
    "\n",
    "data = pd.read_csv(\"./data/WA_Fn-UseC_-Telco-Customer-Churn.csv\")\n",
    "data.head()"
   ]
  },
  {
   "cell_type": "code",
   "execution_count": 2,
   "metadata": {},
   "outputs": [
    {
     "name": "stderr",
     "output_type": "stream",
     "text": [
      "Failed to detect the name of this notebook, you can set it manually with the WANDB_NOTEBOOK_NAME environment variable to enable code saving.\n",
      "\u001b[34m\u001b[1mwandb\u001b[0m: Currently logged in as: \u001b[33mdanbecker\u001b[0m. Use \u001b[1m`wandb login --relogin`\u001b[0m to force relogin\n"
     ]
    },
    {
     "data": {
      "text/html": [
       "Tracking run with wandb version 0.15.5"
      ],
      "text/plain": [
       "<IPython.core.display.HTML object>"
      ]
     },
     "metadata": {},
     "output_type": "display_data"
    },
    {
     "data": {
      "text/html": [
       "Run data is saved locally in <code>/Users/dan/edu/decision-opt-course/wandb/run-20230719_161307-8y42f83l</code>"
      ],
      "text/plain": [
       "<IPython.core.display.HTML object>"
      ]
     },
     "metadata": {},
     "output_type": "display_data"
    },
    {
     "data": {
      "text/html": [
       "Syncing run <strong><a href='https://wandb.ai/danbecker/profit_curves/runs/8y42f83l' target=\"_blank\">major-pyramid-4</a></strong> to <a href='https://wandb.ai/danbecker/profit_curves' target=\"_blank\">Weights & Biases</a> (<a href='https://wandb.me/run' target=\"_blank\">docs</a>)<br/>"
      ],
      "text/plain": [
       "<IPython.core.display.HTML object>"
      ]
     },
     "metadata": {},
     "output_type": "display_data"
    },
    {
     "data": {
      "text/html": [
       " View project at <a href='https://wandb.ai/danbecker/profit_curves' target=\"_blank\">https://wandb.ai/danbecker/profit_curves</a>"
      ],
      "text/plain": [
       "<IPython.core.display.HTML object>"
      ]
     },
     "metadata": {},
     "output_type": "display_data"
    },
    {
     "data": {
      "text/html": [
       " View run at <a href='https://wandb.ai/danbecker/profit_curves/runs/8y42f83l' target=\"_blank\">https://wandb.ai/danbecker/profit_curves/runs/8y42f83l</a>"
      ],
      "text/plain": [
       "<IPython.core.display.HTML object>"
      ]
     },
     "metadata": {},
     "output_type": "display_data"
    }
   ],
   "source": [
    "run1 = wandb.init(project=\"profit_curves\")\n",
    "\n",
    "target = \"Churn\"\n",
    "X_train, X_test, y_train, y_test = train_test_split(\n",
    "    data.drop(target, axis=1), data[target] == \"Yes\", test_size=0.2, random_state=0\n",
    ")\n",
    "cols_to_use = [\n",
    "    \"tenure\",\n",
    "    \"PhoneService\",\n",
    "    \"MultipleLines\",\n",
    "    \"InternetService\",\n",
    "    \"OnlineSecurity\",\n",
    "    \"OnlineBackup\",\n",
    "    \"DeviceProtection\",\n",
    "    \"TechSupport\",\n",
    "    \"StreamingTV\",\n",
    "    \"StreamingMovies\",\n",
    "    \"Contract\",\n",
    "    \"PaperlessBilling\",\n",
    "    \"PaymentMethod\",\n",
    "    \"MonthlyCharges\",\n",
    "]\n",
    "\n",
    "preprocessor = ColumnTransformer(\n",
    "    transformers=[(\"one_hot\", OneHotEncoder(), selector(dtype_include=\"object\"))],\n",
    "    remainder=\"passthrough\",  # Leave numerical variables unchanged\n",
    ")\n",
    "\n",
    "# Create pipeline\n",
    "pipeline = Pipeline([(\"preprocessor\", preprocessor), (\"classifier\", XGBClassifier())])\n",
    "pipeline.fit(X_train[cols_to_use], y_train)\n",
    "y_pred = pipeline.predict_proba(X_test[cols_to_use])[:, 1]\n",
    "roc_auc = roc_auc_score(y_test, y_pred)\n",
    "log_loss_val = log_loss(y_test, y_pred)\n",
    "\n",
    "# Log metrics to W&B\n",
    "wandb.log({\"roc_auc\": roc_auc, \"log_loss\": log_loss_val})"
   ]
  },
  {
   "cell_type": "code",
   "execution_count": 3,
   "metadata": {},
   "outputs": [
    {
     "name": "stdout",
     "output_type": "stream",
     "text": [
      "Confusion Matrix:\n",
      "[[912 129]\n",
      " [179 189]]\n"
     ]
    }
   ],
   "source": [
    "import numpy as np\n",
    "from sklearn.metrics import confusion_matrix\n",
    "\n",
    "threshold = 0.5  # Set your custom threshold here\n",
    "y_pred_binary = np.where(y_pred >= threshold, 1, 0)\n",
    "cm = confusion_matrix(y_test, y_pred_binary)\n",
    "\n",
    "# format is\n",
    "# [[TN, FP],\n",
    "#  [FN, TP]]\n",
    "\n",
    "# Log confusion matrix to W&B\n",
    "wandb.log({'confusion_matrix': wandb.plot.confusion_matrix(\n",
    "    probs=None,\n",
    "    y_true=y_test.tolist(),\n",
    "    preds=y_pred_binary.tolist(),\n",
    "    class_names=['Not Churn', 'Churn'])}\n",
    "    )\n",
    "\n",
    "\n",
    "print(\"Confusion Matrix:\")\n",
    "print(cm)"
   ]
  },
  {
   "cell_type": "code",
   "execution_count": 4,
   "metadata": {},
   "outputs": [
    {
     "name": "stdout",
     "output_type": "stream",
     "text": [
      "[0.   0.01 0.02 0.03 0.04 0.05 0.06 0.07 0.08 0.09 0.1  0.11 0.12 0.13\n",
      " 0.14 0.15 0.16 0.17 0.18 0.19 0.2  0.21 0.22 0.23 0.24 0.25 0.26 0.27\n",
      " 0.28 0.29 0.3  0.31 0.32 0.33 0.34 0.35 0.36 0.37 0.38 0.39 0.4  0.41\n",
      " 0.42 0.43 0.44 0.45 0.46 0.47 0.48 0.49 0.5  0.51 0.52 0.53 0.54 0.55\n",
      " 0.56 0.57 0.58 0.59 0.6  0.61 0.62 0.63 0.64 0.65 0.66 0.67 0.68 0.69\n",
      " 0.7  0.71 0.72 0.73 0.74 0.75 0.76 0.77 0.78 0.79 0.8  0.81 0.82 0.83\n",
      " 0.84 0.85 0.86 0.87 0.88 0.89 0.9  0.91 0.92 0.93 0.94 0.95 0.96 0.97\n",
      " 0.98 0.99 1.  ]\n",
      "[-9680, 13160, 15560, 19440, 21400, 23120, 25000, 26120, 26960, 27840, 28680, 29840, 29360, 29560, 30200, 30280, 30440, 30680, 31360, 32080, 32040, 32080, 32360, 31760, 31800, 31960, 32000, 31440, 31480, 31600, 31800, 30400, 30320, 30560, 31040, 30680, 30680, 30040, 29960, 30120, 30360, 29440, 28440, 28080, 28400, 28200, 28120, 28400, 28160, 27920, 27480, 27640, 27080, 26520, 26360, 26040, 26160, 26440, 25680, 25600, 25560, 24600, 24640, 24880, 24880, 24560, 23560, 23280, 22920, 22120, 22240, 21680, 20920, 20280, 19840, 18280, 17080, 16280, 15520, 14800, 13840, 13400, 12400, 11960, 11120, 11000, 9360, 8360, 7960, 7160, 6640, 5800, 5080, 4760, 3920, 2920, 1920, 600, 200, 0, 0]\n"
     ]
    }
   ],
   "source": [
    "def profit_curve(y_true, y_pred, payoff_matrix, n_points=101):\n",
    "    \"\"\"Calculate profit curve for a binary classifier.\n",
    "\n",
    "    Args:\n",
    "        y_true (array-like): True labels.\n",
    "        y_pred (array-like): Predicted probabilities.\n",
    "        payoff_matrix (array-like): Payoff matrix.\n",
    "        n_points (int): Number of points to calculate.\n",
    "\n",
    "    Returns:\n",
    "        tuple: x and y values for the profit curve.\n",
    "    \"\"\"\n",
    "    # Calculate profit for each threshold\n",
    "    thresholds = np.linspace(0, 1, n_points)\n",
    "    profits = []\n",
    "    for threshold in thresholds:\n",
    "        y_pred_binary = np.where(y_pred >= threshold, 1, 0)\n",
    "        cm = confusion_matrix(y_true, y_pred_binary)\n",
    "        profit = (cm * payoff_matrix).sum()\n",
    "        profits.append(profit)\n",
    "    return thresholds, profits\n",
    "\n",
    "\n",
    "# Costs $80 to give discount to a customer who will not churn\n",
    "# Worth $200 to give discount to a customer who will otherwise churn\n",
    "payoff_matrix = np.array([[0, -80], [0, 200]])\n",
    "first_thresholds, first_profits = profit_curve(y_test, y_pred, payoff_matrix)\n",
    "print(first_thresholds)\n",
    "print(first_profits)"
   ]
  },
  {
   "cell_type": "code",
   "execution_count": 5,
   "metadata": {},
   "outputs": [],
   "source": [
    "# Log your data as a wandb.Table\n",
    "def log_profit_curve(thresholds, profits):\n",
    "    data = [[x, y] for (x, y) in zip(thresholds, profits)]\n",
    "    profit_curve_table = wandb.Table(data=data, columns=[\"Threshold\", \"Profit\"])\n",
    "    line_plot = wandb.plot.line(profit_curve_table, x='Threshold', y='Profit', title='Value of Offering Discounts to Prevent Churn')\n",
    "    wandb.log({\"profit_curve_table\": profit_curve_table, \"profit_curve\": line_plot})\n",
    "\n",
    "log_profit_curve(first_thresholds, first_profits)"
   ]
  },
  {
   "cell_type": "code",
   "execution_count": 6,
   "metadata": {},
   "outputs": [
    {
     "name": "stdout",
     "output_type": "stream",
     "text": [
      "Ideal threshold is 0.22 which yields profits of $32360\n"
     ]
    }
   ],
   "source": [
    "def find_best_threshold_and_profit(thresholds, profits):\n",
    "    \"\"\"Find the best threshold and profit.\n",
    "    \n",
    "    Args:\n",
    "        thresholds (array-like): Threshold values.\n",
    "        profits (array-like): Profit values.\n",
    "    \n",
    "    Returns:\n",
    "        tuple: Best threshold and profit.\n",
    "    \"\"\"\n",
    "    best_profit = max(profits)\n",
    "    best_threshold = thresholds[profits.index(best_profit)]\n",
    "    return best_threshold, best_profit\n",
    "    \n",
    "best_thresh, best_profits = find_best_threshold_and_profit(first_thresholds, first_profits)\n",
    "\n",
    "wandb.log({\"best_threshold\": best_thresh, \"best_profit\": best_profits})\n",
    "\n",
    "print(f\"Ideal threshold is {best_thresh:.2f} which yields profits of ${best_profits:.0f}\")\n"
   ]
  },
  {
   "cell_type": "code",
   "execution_count": 7,
   "metadata": {},
   "outputs": [
    {
     "data": {
      "text/html": [
       "Waiting for W&B process to finish... <strong style=\"color:green\">(success).</strong>"
      ],
      "text/plain": [
       "<IPython.core.display.HTML object>"
      ]
     },
     "metadata": {},
     "output_type": "display_data"
    },
    {
     "data": {
      "text/html": [
       "<style>\n",
       "    table.wandb td:nth-child(1) { padding: 0 10px; text-align: left ; width: auto;} td:nth-child(2) {text-align: left ; width: 100%}\n",
       "    .wandb-row { display: flex; flex-direction: row; flex-wrap: wrap; justify-content: flex-start; width: 100% }\n",
       "    .wandb-col { display: flex; flex-direction: column; flex-basis: 100%; flex: 1; padding: 10px; }\n",
       "    </style>\n",
       "<div class=\"wandb-row\"><div class=\"wandb-col\"><h3>Run history:</h3><br/><table class=\"wandb\"><tr><td>best_profit</td><td>▁</td></tr><tr><td>best_threshold</td><td>▁</td></tr><tr><td>log_loss</td><td>▁</td></tr><tr><td>roc_auc</td><td>▁</td></tr></table><br/></div><div class=\"wandb-col\"><h3>Run summary:</h3><br/><table class=\"wandb\"><tr><td>best_profit</td><td>32360</td></tr><tr><td>best_threshold</td><td>0.22</td></tr><tr><td>log_loss</td><td>0.47183</td></tr><tr><td>roc_auc</td><td>0.81526</td></tr></table><br/></div></div>"
      ],
      "text/plain": [
       "<IPython.core.display.HTML object>"
      ]
     },
     "metadata": {},
     "output_type": "display_data"
    },
    {
     "data": {
      "text/html": [
       " View run <strong style=\"color:#cdcd00\">major-pyramid-4</strong> at: <a href='https://wandb.ai/danbecker/profit_curves/runs/8y42f83l' target=\"_blank\">https://wandb.ai/danbecker/profit_curves/runs/8y42f83l</a><br/>Synced 6 W&B file(s), 2 media file(s), 2 artifact file(s) and 0 other file(s)"
      ],
      "text/plain": [
       "<IPython.core.display.HTML object>"
      ]
     },
     "metadata": {},
     "output_type": "display_data"
    },
    {
     "data": {
      "text/html": [
       "Find logs at: <code>./wandb/run-20230719_161307-8y42f83l/logs</code>"
      ],
      "text/plain": [
       "<IPython.core.display.HTML object>"
      ]
     },
     "metadata": {},
     "output_type": "display_data"
    }
   ],
   "source": [
    "# We'll finish our first experiment (run) here. \n",
    "wandb.finish()"
   ]
  },
  {
   "attachments": {},
   "cell_type": "markdown",
   "metadata": {},
   "source": [
    "# Prioritizing Work"
   ]
  },
  {
   "cell_type": "code",
   "execution_count": 8,
   "metadata": {},
   "outputs": [
    {
     "data": {
      "text/html": [
       "Tracking run with wandb version 0.15.5"
      ],
      "text/plain": [
       "<IPython.core.display.HTML object>"
      ]
     },
     "metadata": {},
     "output_type": "display_data"
    },
    {
     "data": {
      "text/html": [
       "Run data is saved locally in <code>/Users/dan/edu/decision-opt-course/wandb/run-20230719_161317-lv9qjcnj</code>"
      ],
      "text/plain": [
       "<IPython.core.display.HTML object>"
      ]
     },
     "metadata": {},
     "output_type": "display_data"
    },
    {
     "data": {
      "text/html": [
       "Syncing run <strong><a href='https://wandb.ai/danbecker/profit_curves/runs/lv9qjcnj' target=\"_blank\">comic-oath-5</a></strong> to <a href='https://wandb.ai/danbecker/profit_curves' target=\"_blank\">Weights & Biases</a> (<a href='https://wandb.me/run' target=\"_blank\">docs</a>)<br/>"
      ],
      "text/plain": [
       "<IPython.core.display.HTML object>"
      ]
     },
     "metadata": {},
     "output_type": "display_data"
    },
    {
     "data": {
      "text/html": [
       " View project at <a href='https://wandb.ai/danbecker/profit_curves' target=\"_blank\">https://wandb.ai/danbecker/profit_curves</a>"
      ],
      "text/plain": [
       "<IPython.core.display.HTML object>"
      ]
     },
     "metadata": {},
     "output_type": "display_data"
    },
    {
     "data": {
      "text/html": [
       " View run at <a href='https://wandb.ai/danbecker/profit_curves/runs/lv9qjcnj' target=\"_blank\">https://wandb.ai/danbecker/profit_curves/runs/lv9qjcnj</a>"
      ],
      "text/plain": [
       "<IPython.core.display.HTML object>"
      ]
     },
     "metadata": {},
     "output_type": "display_data"
    },
    {
     "name": "stderr",
     "output_type": "stream",
     "text": [
      "/Users/dan/opt/anaconda3/envs/wandb/lib/python3.9/site-packages/xgboost/sklearn.py:835: UserWarning: `callbacks` in `fit` method is deprecated for better compatibility with scikit-learn, use `callbacks` in constructor or`set_params` instead.\n",
      "  warnings.warn(\n"
     ]
    },
    {
     "name": "stdout",
     "output_type": "stream",
     "text": [
      "Ideal threshold is 0.24 which yields profits of $30800\n"
     ]
    }
   ],
   "source": [
    "# start a new W&B run\n",
    "run2 = wandb.init(project=\"profit_curves\")\n",
    "\n",
    "field_lost_in_broken_pipeline = \"Contract\"\n",
    "\n",
    "# refit model and get new predictions without this field\n",
    "new_cols_to_use = [col for col in cols_to_use if col != field_lost_in_broken_pipeline]\n",
    "pipeline.fit(X_train[new_cols_to_use], y_train,\n",
    "             classifier__callbacks=[WandbCallback()]\n",
    "             )\n",
    "new_y_pred = pipeline.predict_proba(X_test[new_cols_to_use])[:, 1]\n",
    "\n",
    "roc_auc = roc_auc_score(y_test, new_y_pred)\n",
    "log_loss_val = log_loss(y_test, new_y_pred)\n",
    "\n",
    "# Log metrics to W&B\n",
    "wandb.log({\"roc_auc\": roc_auc, \"log_loss\": log_loss_val})\n",
    "\n",
    "new_thresholds, new_profits = profit_curve(y_test, new_y_pred, payoff_matrix)\n",
    "log_profit_curve(new_thresholds, new_profits)\n",
    "new_best_thresh, new_best_profits = find_best_threshold_and_profit(new_thresholds, new_profits)\n",
    "wandb.log({\"best_threshold\": new_best_thresh, \"best_profit\": new_best_profits})\n",
    "print(f\"Ideal threshold is {new_best_thresh:.2f} which yields profits of ${new_best_profits:.0f}\")"
   ]
  },
  {
   "cell_type": "code",
   "execution_count": 9,
   "metadata": {},
   "outputs": [
    {
     "data": {
      "text/html": [
       "Waiting for W&B process to finish... <strong style=\"color:green\">(success).</strong>"
      ],
      "text/plain": [
       "<IPython.core.display.HTML object>"
      ]
     },
     "metadata": {},
     "output_type": "display_data"
    },
    {
     "data": {
      "text/html": [
       "<style>\n",
       "    table.wandb td:nth-child(1) { padding: 0 10px; text-align: left ; width: auto;} td:nth-child(2) {text-align: left ; width: 100%}\n",
       "    .wandb-row { display: flex; flex-direction: row; flex-wrap: wrap; justify-content: flex-start; width: 100% }\n",
       "    .wandb-col { display: flex; flex-direction: column; flex-basis: 100%; flex: 1; padding: 10px; }\n",
       "    </style>\n",
       "<div class=\"wandb-row\"><div class=\"wandb-col\"><h3>Run history:</h3><br/><table class=\"wandb\"><tr><td>best_profit</td><td>▁</td></tr><tr><td>best_threshold</td><td>▁</td></tr><tr><td>epoch</td><td>▁▁▁▁▂▂▂▂▂▃▃▃▃▃▃▄▄▄▄▄▅▅▅▅▅▅▆▆▆▆▆▇▇▇▇▇▇███</td></tr><tr><td>log_loss</td><td>▁</td></tr><tr><td>roc_auc</td><td>▁</td></tr></table><br/></div><div class=\"wandb-col\"><h3>Run summary:</h3><br/><table class=\"wandb\"><tr><td>best_profit</td><td>30800</td></tr><tr><td>best_threshold</td><td>0.24</td></tr><tr><td>epoch</td><td>99</td></tr><tr><td>log_loss</td><td>0.47603</td></tr><tr><td>roc_auc</td><td>0.80646</td></tr></table><br/></div></div>"
      ],
      "text/plain": [
       "<IPython.core.display.HTML object>"
      ]
     },
     "metadata": {},
     "output_type": "display_data"
    },
    {
     "data": {
      "text/html": [
       " View run <strong style=\"color:#cdcd00\">comic-oath-5</strong> at: <a href='https://wandb.ai/danbecker/profit_curves/runs/lv9qjcnj' target=\"_blank\">https://wandb.ai/danbecker/profit_curves/runs/lv9qjcnj</a><br/>Synced 6 W&B file(s), 2 media file(s), 2 artifact file(s) and 0 other file(s)"
      ],
      "text/plain": [
       "<IPython.core.display.HTML object>"
      ]
     },
     "metadata": {},
     "output_type": "display_data"
    },
    {
     "data": {
      "text/html": [
       "Find logs at: <code>./wandb/run-20230719_161317-lv9qjcnj/logs</code>"
      ],
      "text/plain": [
       "<IPython.core.display.HTML object>"
      ]
     },
     "metadata": {},
     "output_type": "display_data"
    }
   ],
   "source": [
    "# Let's finish our second run here\n",
    "wandb.finish()"
   ]
  },
  {
   "cell_type": "code",
   "execution_count": 10,
   "metadata": {},
   "outputs": [
    {
     "name": "stdout",
     "output_type": "stream",
     "text": [
      "Change in profit due to lost field: -1560\n"
     ]
    }
   ],
   "source": [
    "print(f\"Change in profit due to lost field: {new_best_profits - best_profits:.0f}\")"
   ]
  },
  {
   "attachments": {},
   "cell_type": "markdown",
   "metadata": {},
   "source": [
    "The most important field is `tenure`. It is an interesting exercise to see modify this code slightly and see how the results change when you remove `tenure`."
   ]
  },
  {
   "attachments": {},
   "cell_type": "markdown",
   "metadata": {},
   "source": [
    "## Model Improvements"
   ]
  },
  {
   "cell_type": "code",
   "execution_count": 11,
   "metadata": {},
   "outputs": [
    {
     "data": {
      "text/html": [
       "Tracking run with wandb version 0.15.5"
      ],
      "text/plain": [
       "<IPython.core.display.HTML object>"
      ]
     },
     "metadata": {},
     "output_type": "display_data"
    },
    {
     "data": {
      "text/html": [
       "Run data is saved locally in <code>/Users/dan/edu/decision-opt-course/wandb/run-20230719_161328-um8syo7h</code>"
      ],
      "text/plain": [
       "<IPython.core.display.HTML object>"
      ]
     },
     "metadata": {},
     "output_type": "display_data"
    },
    {
     "data": {
      "text/html": [
       "Syncing run <strong><a href='https://wandb.ai/danbecker/profit_curves/runs/um8syo7h' target=\"_blank\">exalted-cherry-6</a></strong> to <a href='https://wandb.ai/danbecker/profit_curves' target=\"_blank\">Weights & Biases</a> (<a href='https://wandb.me/run' target=\"_blank\">docs</a>)<br/>"
      ],
      "text/plain": [
       "<IPython.core.display.HTML object>"
      ]
     },
     "metadata": {},
     "output_type": "display_data"
    },
    {
     "data": {
      "text/html": [
       " View project at <a href='https://wandb.ai/danbecker/profit_curves' target=\"_blank\">https://wandb.ai/danbecker/profit_curves</a>"
      ],
      "text/plain": [
       "<IPython.core.display.HTML object>"
      ]
     },
     "metadata": {},
     "output_type": "display_data"
    },
    {
     "data": {
      "text/html": [
       " View run at <a href='https://wandb.ai/danbecker/profit_curves/runs/um8syo7h' target=\"_blank\">https://wandb.ai/danbecker/profit_curves/runs/um8syo7h</a>"
      ],
      "text/plain": [
       "<IPython.core.display.HTML object>"
      ]
     },
     "metadata": {},
     "output_type": "display_data"
    }
   ],
   "source": [
    "# Let's start our third run here. Because it's a synthtic dataset, we'll use tags to indicate that\n",
    "run3 = wandb.init(project=\"profit_curves\", tags=[\"synthetic_data\"])"
   ]
  },
  {
   "cell_type": "code",
   "execution_count": 12,
   "metadata": {},
   "outputs": [
    {
     "name": "stdout",
     "output_type": "stream",
     "text": [
      "closeness_factor: 0.00.   AUC of synthetic data: 0.82\n",
      "closeness_factor: 0.02.   AUC of synthetic data: 0.83\n",
      "closeness_factor: 0.04.   AUC of synthetic data: 0.85\n",
      "closeness_factor: 0.06.   AUC of synthetic data: 0.86\n",
      "closeness_factor: 0.08.   AUC of synthetic data: 0.87\n",
      "closeness_factor: 0.10.   AUC of synthetic data: 0.88\n",
      "closeness_factor: 0.12.   AUC of synthetic data: 0.89\n",
      "closeness_factor: 0.14.   AUC of synthetic data: 0.90\n",
      "closeness_factor: 0.16.   AUC of synthetic data: 0.91\n",
      "closeness_factor: 0.18.   AUC of synthetic data: 0.92\n",
      "closeness_factor: 0.20.   AUC of synthetic data: 0.93\n"
     ]
    }
   ],
   "source": [
    "def make_synth_accurate_data(y_pred, y_true, closeness_factor=0.1):\n",
    "    \"\"\"Create synthetic data that is accurate.\n",
    "\n",
    "    Args:\n",
    "        y_pred (array-like): Predicted probabilities.\n",
    "        y_true (array-like): True labels.\n",
    "        closeness_factor (float): A measure of how much to increase the accuracy of the synthetic data.\n",
    "\n",
    "    Returns:\n",
    "        array: Synthetic data.\n",
    "    \"\"\"\n",
    "    errors = y_pred - y_true\n",
    "    synth_data = y_pred - errors * closeness_factor\n",
    "    synth_data_AUC = roc_auc_score(y_true, synth_data)\n",
    "    print(\n",
    "        f\"closeness_factor: {closeness_factor:.2f}.   AUC of synthetic data: {synth_data_AUC:.2f}\"\n",
    "    )\n",
    "    return synth_data\n",
    "\n",
    "\n",
    "for i in np.linspace(0, 0.2, 11):\n",
    "    make_synth_accurate_data(y_pred, y_test, i)"
   ]
  },
  {
   "attachments": {},
   "cell_type": "markdown",
   "metadata": {},
   "source": [
    "A closeness factor of 0.14 creates synthetic data that's a proxy for how good we expect predictions to be after this modeling improvement (recall that we hypothesized the modeling improvement would yield an AUC of 0.9)"
   ]
  },
  {
   "cell_type": "code",
   "execution_count": 13,
   "metadata": {},
   "outputs": [
    {
     "name": "stdout",
     "output_type": "stream",
     "text": [
      "closeness_factor: 0.14.   AUC of synthetic data: 0.90\n",
      "\n",
      "Sanity check that means make sense:\n",
      "0.262\n",
      "0.262\n",
      "0.261\n",
      "\n"
     ]
    }
   ],
   "source": [
    "synth_preds = make_synth_accurate_data(y_pred, y_test, 0.14)\n",
    "print(\n",
    "    f\"\"\"\n",
    "Sanity check that means make sense:\n",
    "{synth_preds.mean():.3f}\n",
    "{y_pred.mean():.3f}\n",
    "{y_test.mean():.3f}\n",
    "\"\"\"\n",
    ")"
   ]
  },
  {
   "attachments": {},
   "cell_type": "markdown",
   "metadata": {},
   "source": [
    "Now show profit curves we expect after this modeling improvement. We'll compare it to the profit curve from the best model built so far."
   ]
  },
  {
   "cell_type": "code",
   "execution_count": 14,
   "metadata": {},
   "outputs": [
    {
     "name": "stdout",
     "output_type": "stream",
     "text": [
      "closeness_factor: 0.14.   AUC of synthetic data: 0.90\n",
      "Ideal threshold is 0.14 which yields profits of $44880\n"
     ]
    }
   ],
   "source": [
    "synth_preds = make_synth_accurate_data(y_pred, y_test, 0.14)\n",
    "roc_auc = roc_auc_score(y_test, synth_preds)\n",
    "log_loss_val = log_loss(y_test, synth_preds)\n",
    "\n",
    "# Log metrics to W&B\n",
    "wandb.log({\"roc_auc\": roc_auc, \"log_loss\": log_loss_val})\n",
    "synth_pred_thresholds, synth_pred_profits = profit_curve(y_test, synth_preds, payoff_matrix)\n",
    "log_profit_curve(synth_pred_thresholds, synth_pred_profits)\n",
    "synth_best_thresh, synth_best_profits = find_best_threshold_and_profit(synth_pred_thresholds, synth_pred_profits)\n",
    "wandb.log({\"best_threshold\": synth_best_thresh, \"best_profit\": synth_best_profits})\n",
    "print(f\"Ideal threshold is {synth_best_thresh:.2f} which yields profits of ${synth_best_profits:.0f}\")"
   ]
  },
  {
   "cell_type": "code",
   "execution_count": 15,
   "metadata": {},
   "outputs": [
    {
     "data": {
      "text/html": [
       "Waiting for W&B process to finish... <strong style=\"color:green\">(success).</strong>"
      ],
      "text/plain": [
       "<IPython.core.display.HTML object>"
      ]
     },
     "metadata": {},
     "output_type": "display_data"
    },
    {
     "data": {
      "text/html": [
       "<style>\n",
       "    table.wandb td:nth-child(1) { padding: 0 10px; text-align: left ; width: auto;} td:nth-child(2) {text-align: left ; width: 100%}\n",
       "    .wandb-row { display: flex; flex-direction: row; flex-wrap: wrap; justify-content: flex-start; width: 100% }\n",
       "    .wandb-col { display: flex; flex-direction: column; flex-basis: 100%; flex: 1; padding: 10px; }\n",
       "    </style>\n",
       "<div class=\"wandb-row\"><div class=\"wandb-col\"><h3>Run history:</h3><br/><table class=\"wandb\"><tr><td>best_profit</td><td>▁</td></tr><tr><td>best_threshold</td><td>▁</td></tr><tr><td>log_loss</td><td>▁</td></tr><tr><td>roc_auc</td><td>▁</td></tr></table><br/></div><div class=\"wandb-col\"><h3>Run summary:</h3><br/><table class=\"wandb\"><tr><td>best_profit</td><td>44880</td></tr><tr><td>best_threshold</td><td>0.14</td></tr><tr><td>log_loss</td><td>0.33139</td></tr><tr><td>roc_auc</td><td>0.90083</td></tr></table><br/></div></div>"
      ],
      "text/plain": [
       "<IPython.core.display.HTML object>"
      ]
     },
     "metadata": {},
     "output_type": "display_data"
    },
    {
     "data": {
      "text/html": [
       " View run <strong style=\"color:#cdcd00\">exalted-cherry-6</strong> at: <a href='https://wandb.ai/danbecker/profit_curves/runs/um8syo7h' target=\"_blank\">https://wandb.ai/danbecker/profit_curves/runs/um8syo7h</a><br/>Synced 6 W&B file(s), 1 media file(s), 1 artifact file(s) and 0 other file(s)"
      ],
      "text/plain": [
       "<IPython.core.display.HTML object>"
      ]
     },
     "metadata": {},
     "output_type": "display_data"
    },
    {
     "data": {
      "text/html": [
       "Find logs at: <code>./wandb/run-20230719_161328-um8syo7h/logs</code>"
      ],
      "text/plain": [
       "<IPython.core.display.HTML object>"
      ]
     },
     "metadata": {},
     "output_type": "display_data"
    }
   ],
   "source": [
    "wandb.finish()"
   ]
  },
  {
   "attachments": {},
   "cell_type": "markdown",
   "metadata": {},
   "source": [
    "# Beyond Simple-Number Decision Thresholds"
   ]
  },
  {
   "cell_type": "code",
   "execution_count": 16,
   "metadata": {},
   "outputs": [
    {
     "data": {
      "text/plain": [
       "<Axes: >"
      ]
     },
     "execution_count": 16,
     "metadata": {},
     "output_type": "execute_result"
    },
    {
     "data": {
      "image/png": "[encoded data removed]",
      "text/plain": [
       "<Figure size 640x480 with 1 Axes>"
      ]
     },
     "metadata": {},
     "output_type": "display_data"
    }
   ],
   "source": [
    "data.MonthlyCharges.hist()"
   ]
  },
  {
   "cell_type": "code",
   "execution_count": 17,
   "metadata": {},
   "outputs": [],
   "source": [
    "# Previously assumed this was 200 for all customers.\n",
    "# Mean MonthlyCharge is 68\n",
    "X_test[\"value_of_promoting_to_churning_customer\"] = data.MonthlyCharges * 3\n",
    "\n",
    "# Previously assumed this was -80 for all customers.\n",
    "X_test[\"cost_of_promoting_to_non_churning_customer\"] = -80"
   ]
  },
  {
   "cell_type": "code",
   "execution_count": 18,
   "metadata": {},
   "outputs": [],
   "source": [
    "def group_specific_profit_curve(X_test, y_test, y_pred, low_thresh, high_thresh):\n",
    "    in_group = (X_test.MonthlyCharges > low_thresh) & (\n",
    "        X_test.MonthlyCharges <= high_thresh\n",
    "    )\n",
    "    y_test_in_group = y_test[in_group]\n",
    "    y_pred_in_group = y_pred[in_group]\n",
    "    mean_monthly_charge = X_test.MonthlyCharges[in_group].mean()\n",
    "    payoff_matrix = np.array([[0, -80], [0, 3 * mean_monthly_charge]])\n",
    "    thresholds, profits = profit_curve(y_test_in_group, y_pred_in_group, payoff_matrix)\n",
    "    best_thresh, best_profits = find_best_threshold_and_profit(thresholds, profits)\n",
    "    return best_thresh, best_profits"
   ]
  },
  {
   "attachments": {},
   "cell_type": "markdown",
   "metadata": {},
   "source": [
    "Divide customers into three groups and assign different thresholds for each"
   ]
  },
  {
   "cell_type": "code",
   "execution_count": 19,
   "metadata": {},
   "outputs": [
    {
     "name": "stdout",
     "output_type": "stream",
     "text": [
      "\n",
      "With flexible thresholds, the profit is 44919.\n",
      "Previous profit was 32360\n"
     ]
    }
   ],
   "source": [
    "# Find ideal threshold for customers paying less than $20/month\n",
    "thresh_low, profits_low = group_specific_profit_curve(X_test, y_test, y_pred, 0, 20)\n",
    "# Find ideal threshold for customers paying between $20 and $60/month\n",
    "thresh_medium, profits_medium = group_specific_profit_curve(\n",
    "    X_test, y_test, y_pred, 20, 60\n",
    ")\n",
    "# Find ideal threshold for customers paying between $60 and $100/month\n",
    "thresh_high, profits_high = group_specific_profit_curve(X_test, y_test, y_pred, 60, 100)\n",
    "# Find ideal threshold for customers paying more than $100/month\n",
    "thresh_very_high, profits_very_high = group_specific_profit_curve(\n",
    "    X_test, y_test, y_pred, 100, 200\n",
    ")\n",
    "\n",
    "print(\n",
    "    f\"\"\"\n",
    "With flexible thresholds, the profit is {(profits_low + profits_medium + profits_high + profits_very_high):.0f}.\n",
    "Previous profit was {best_profits}\"\"\"\n",
    ")"
   ]
  },
  {
   "cell_type": "code",
   "execution_count": null,
   "metadata": {},
   "outputs": [],
   "source": []
  }
 ],
 "metadata": {
  "kernelspec": {
   "display_name": "base",
   "language": "python",
   "name": "python3"
  },
  "language_info": {
   "codemirror_mode": {
    "name": "ipython",
    "version": 3
   },
   "file_extension": ".py",
   "mimetype": "text/x-python",
   "name": "python",
   "nbconvert_exporter": "python",
   "pygments_lexer": "ipython3",
   "version": "3.9.16"
  },
  "orig_nbformat": 4,
  "vscode": {
   "interpreter": {
    "hash": "9b52454ccac6a5061b9956402f9b0126832d9d09240c85a0ef34ec847cbca41c"
   }
  }
 },
 "nbformat": 4,
 "nbformat_minor": 2
}
